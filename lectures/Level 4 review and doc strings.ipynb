{
 "cells": [
  {
   "cell_type": "markdown",
   "metadata": {},
   "source": [
    "# Script Documentation and Commenting"
   ]
  },
  {
   "cell_type": "markdown",
   "metadata": {},
   "source": [
    "Just like keeping a lab notebook to track all of your experiments, documentation helps users know how to use your code, explains what stage it's at, and provides any rationals or results you got from running that code. That user could even be you!\n",
    "\n",
    "Here are some tips and tricks that I've used while writing my scripts."
   ]
  },
  {
   "cell_type": "markdown",
   "metadata": {},
   "source": [
    "# Jupyter Notebooks"
   ]
  },
  {
   "cell_type": "markdown",
   "metadata": {},
   "source": [
    "Jupyter notebooks are really useful for documenting everything that you've been doing because not only can you separate your code into cells, but you can add text cells and write in LaTeX using the ```Markdown``` cell format. "
   ]
  },
  {
   "cell_type": "markdown",
   "metadata": {},
   "source": [
    "You can write LaTeX formatted ** equations ** :\n",
    "\n",
    "$$ \\frac{-b\\pm\\sqrt{b^2-4ac}}{2a} $$"
   ]
  },
  {
   "cell_type": "markdown",
   "metadata": {},
   "source": [
    "You can also add ** images ** to your notebooks:\n",
    "\n",
    "<img src=\"spbob.jpeg\">"
   ]
  },
  {
   "cell_type": "markdown",
   "metadata": {},
   "source": [
    "** Resources **\n",
    "\n",
    "- [Markdown Style Cheatsheet](https://github.com/adam-p/markdown-here/wiki/Markdown-Cheatsheet)"
   ]
  },
  {
   "cell_type": "markdown",
   "metadata": {},
   "source": [
    "## Jupyter Lab"
   ]
  },
  {
   "cell_type": "markdown",
   "metadata": {},
   "source": [
    "There's a new web-based interface that Jupyter just released called **JupyterLab**: \n",
    "\n",
    "<img src=\"jupyterlab.png\">"
   ]
  },
  {
   "cell_type": "markdown",
   "metadata": {},
   "source": [
    "JupyterLab has some cool new features such as:\n",
    "\n",
    "- Mulit-tab in-browser environment\n",
    "- Collapse Cells\n",
    "- Drag and drop cells\n",
    "- Side by side editing (like markdown viewer below)\n",
    "- Console Editor\n",
    "- Single Document Mode\n",
    "- New File browser\n",
    "- File Grids + CSV viewer on Big Data\n",
    "- Image file viewing"
   ]
  },
  {
   "cell_type": "markdown",
   "metadata": {
    "ExecuteTime": {
     "end_time": "2018-07-03T14:26:53.173507Z",
     "start_time": "2018-07-03T14:26:53.141536Z"
    }
   },
   "source": [
    "More on JupyterLab: \n",
    "- [News Update](https://blog.jupyter.org/jupyterlab-is-ready-for-users-5a6f039b8906)\n",
    "- [Data Centric Review](https://medium.com/@brianray_7981/jupyterlab-first-impressions-e6d70d8a175d)\n",
    "- [Advanced JupyterLab Documentation](https://media.readthedocs.org/pdf/jlab/debug-rtd/jlab.pdf)\n",
    "\n",
    "This was just released, so there's still room to improve, but overall people in the data science community speak highly of it and it's potential!"
   ]
  },
  {
   "cell_type": "markdown",
   "metadata": {},
   "source": [
    "# docstrings"
   ]
  },
  {
   "cell_type": "markdown",
   "metadata": {},
   "source": [
    "The basic purpose of a docstring is to explain what your function or class does and what are it's parameters and returns. \n",
    "\n",
    "Jessime and I both use [NumPy's documentation style](http://www.numpy.org/devdocs/docs/howto_document.html) mostly because it's pretty straightforward and legible to anyone who is familiar with code.\n",
    "\n",
    "** Example docstring **\n"
   ]
  },
  {
   "cell_type": "code",
   "execution_count": null,
   "metadata": {
    "ExecuteTime": {
     "end_time": "2018-07-03T15:06:09.803664Z",
     "start_time": "2018-07-03T15:06:09.786621Z"
    },
    "collapsed": true,
    "scrolled": true
   },
   "outputs": [],
   "source": [
    "'''\n",
    "This is a one-sentence explaination of what your function does.\n",
    "\n",
    "Parameters\n",
    "----------\n",
    "x : type\n",
    "    Description of parameter 'x'.\n",
    "y\n",
    "    Description of parameter 'y' with type not specified. \n",
    "    \n",
    "Returns\n",
    "-------\n",
    "z : type\n",
    "    Description of return variable 'z'. \n",
    "'''"
   ]
  },
  {
   "cell_type": "code",
   "execution_count": null,
   "metadata": {
    "ExecuteTime": {
     "end_time": "2018-07-03T15:19:52.207951Z",
     "start_time": "2018-07-03T15:19:52.166837Z"
    },
    "collapsed": true
   },
   "outputs": [],
   "source": [
    "def is_nucleic_acid(seq):\n",
    "    '''\n",
    "    Indicates whether a string is a valid nucleic acid sequence.\n",
    "    \n",
    "    Parameters\n",
    "    ----------\n",
    "    seq: str\n",
    "        Case-insensitive string\n",
    "    \n",
    "    Returns\n",
    "    -------\n",
    "    bool\n",
    "    \n",
    "    '''\n",
    "    seq = seq.upper()\n",
    "    na = 'ACTGUWSMKRYBDHVNZ' # Why are there so many nucleic acids?\n",
    "    return (all(i in na for i in seq))"
   ]
  },
  {
   "cell_type": "markdown",
   "metadata": {
    "ExecuteTime": {
     "end_time": "2018-07-03T14:33:33.970950Z",
     "start_time": "2018-07-03T14:33:33.963052Z"
    }
   },
   "source": [
    "A ```comment``` is used when a line or a block of code isn't clear. "
   ]
  },
  {
   "cell_type": "code",
   "execution_count": null,
   "metadata": {
    "ExecuteTime": {
     "end_time": "2018-07-03T15:20:53.758959Z",
     "start_time": "2018-07-03T15:20:53.752946Z"
    },
    "collapsed": true
   },
   "outputs": [],
   "source": [
    "def is_nucleic_acid(seq):\n",
    "    '''\n",
    "    Indicates whether a string is a valid nucleic acid sequence.\n",
    "    \n",
    "    Parameters\n",
    "    ----------\n",
    "    seq: str\n",
    "        Case-insensitive string\n",
    "    \n",
    "    Returns\n",
    "    -------\n",
    "    bool\n",
    "    \n",
    "    '''\n",
    "    seq = seq.upper()\n",
    "    na = 'ACTGUWSMKRYBDHVNZ' # Includes all IUPAC standard notations\n",
    "    return (all(i in na for i in seq))"
   ]
  },
  {
   "cell_type": "markdown",
   "metadata": {},
   "source": [
    "# Saving command line history"
   ]
  },
  {
   "cell_type": "markdown",
   "metadata": {},
   "source": []
  },
  {
   "cell_type": "markdown",
   "metadata": {
    "ExecuteTime": {
     "end_time": "2018-07-03T16:18:20.321950Z",
     "start_time": "2018-07-03T16:18:20.315935Z"
    }
   },
   "source": [
    "# Level 4 Review using docstrings!"
   ]
  },
  {
   "cell_type": "code",
   "execution_count": null,
   "metadata": {
    "collapsed": true
   },
   "outputs": [],
   "source": []
  },
  {
   "cell_type": "markdown",
   "metadata": {},
   "source": [
    "You have two files: theraptrix_protein_orders.txt, which contains a list of names of all the proteins that Theraptrix has purchased recently, and locus_data.tab, which contains tabular data of a series of experiments. \n",
    "\n",
    "*Parameters*\n",
    "- paths to both locus_data.tab and theraptrix_protein_orders.txt \n",
    "\n",
    "*Returns*\n",
    "- 0.200 : maximum average correlation value (rounded to 3 decimals)\n",
    "- ('K562', 'apoptosis') : corresponding cell type and phenotype\n",
    "\n",
    "*Steps*\n",
    "- Filter locus_data.tab by removing rows where the expression of the protein is not significant\n",
    "- Filter .tab by removing rows where the protein name is not in theraptrix_protein_orders.txt\n",
    "- Then, for each cell type within the filtered data set, average the correlation values of all proteins for each individual phenotype. \n",
    "- Write the maximum average correlation value (rounded to 3 decimals) among all of the average values, along with the cell type and phenotype corresponding to this max value, to the file results/4.txt."
   ]
  },
  {
   "cell_type": "code",
   "execution_count": null,
   "metadata": {
    "ExecuteTime": {
     "end_time": "2018-07-03T16:31:29.496497Z",
     "start_time": "2018-07-03T16:31:29.475442Z"
    },
    "collapsed": true
   },
   "outputs": [],
   "source": [
    "# Importing modules\n",
    "import pandas as pd\n",
    "from sys import argv\n",
    "\n",
    "# Main funtion\n",
    "def pheno_corr(locus_data, proteins):\n",
    "    pass\n",
    "    with open('results/4.txt', 'w') as outfile:\n",
    "        outfile.write()\n",
    "# Take command lines\n",
    "if __name__ == '__main__':\n",
    "    pheno_corr(argv[1], argv[2])\n",
    "    # pheno_corr('locus_data.tab', 'theraptrix_protein_orders.txt')\n"
   ]
  },
  {
   "cell_type": "code",
   "execution_count": null,
   "metadata": {
    "collapsed": true
   },
   "outputs": [],
   "source": [
    "def pheno_corr(locus_data, proteins):\n",
    "    '''\n",
    "    The strongest phenotype in a single cell type expressing select proteins.\n",
    "    C:\\Users\\sksuzuki\\Desktop\\level4.py\n",
    "    Parameters\n",
    "    ----------\n",
    "    locus_data: str\n",
    "        path to experimental data in a tab-separated file\n",
    "    \n",
    "    proteins: str\n",
    "        path to list of proteins in a txt file\n",
    "    \n",
    "    Returns\n",
    "    -------\n",
    "    Txt File\n",
    "        - correlation value\n",
    "        - cell type and phenotype\n",
    "    \n",
    "    '''"
   ]
  },
  {
   "cell_type": "code",
   "execution_count": null,
   "metadata": {
    "collapsed": true
   },
   "outputs": [],
   "source": [
    "locus_data = pd.read_table(locus_data)\n",
    "with open(proteins) as f:\n",
    "    thera_proteins = [line.strip() for line in f.readlines()]\n",
    "print(locus_data)\n",
    "print(thera_proteins)"
   ]
  },
  {
   "cell_type": "code",
   "execution_count": null,
   "metadata": {
    "collapsed": true
   },
   "outputs": [],
   "source": [
    "data = data[(data['Exp Sig'] == True)]\n",
    "print(data)"
   ]
  },
  {
   "cell_type": "code",
   "execution_count": null,
   "metadata": {
    "collapsed": true
   },
   "outputs": [],
   "source": [
    "data = data[(data['Exp Sig'] == True) & (data['Protein'].isin(thera_proteins))]\n",
    "print(data)    "
   ]
  },
  {
   "cell_type": "code",
   "execution_count": null,
   "metadata": {
    "collapsed": true
   },
   "outputs": [],
   "source": [
    "grouped_means = data.groupby('Cell Type').mean()\n",
    "print(grouped_means)"
   ]
  },
  {
   "cell_type": "code",
   "execution_count": null,
   "metadata": {
    "collapsed": true
   },
   "outputs": [],
   "source": [
    "pheno_data = grouped_means.iloc[:,-3:] # change this when submitting\n",
    "print(pheno_data) "
   ]
  },
  {
   "cell_type": "code",
   "execution_count": null,
   "metadata": {
    "collapsed": true
   },
   "outputs": [],
   "source": [
    "max_value = pheno_data.max().max()\n",
    "print(max_value)"
   ]
  },
  {
   "cell_type": "code",
   "execution_count": null,
   "metadata": {
    "collapsed": true
   },
   "outputs": [],
   "source": [
    "cell_type = pheno_data.max(axis=1).idxmax()\n",
    "print(cell_type)"
   ]
  },
  {
   "cell_type": "code",
   "execution_count": null,
   "metadata": {
    "collapsed": true
   },
   "outputs": [],
   "source": [
    "pheno = pheno_data.max(axis=0).idxmax()\n",
    "print(pheno)"
   ]
  },
  {
   "cell_type": "code",
   "execution_count": null,
   "metadata": {
    "collapsed": true
   },
   "outputs": [],
   "source": [
    "outfile.write(f'{round(max_value, 3)}\\n')\n",
    "outfile.write(f'{(cell_type, pheno)}')"
   ]
  }
 ],
 "metadata": {
  "hide_input": false,
  "kernelspec": {
   "display_name": "Python 3",
   "language": "python",
   "name": "python3"
  },
  "language_info": {
   "codemirror_mode": {
    "name": "ipython",
    "version": 3
   },
   "file_extension": ".py",
   "mimetype": "text/x-python",
   "name": "python",
   "nbconvert_exporter": "python",
   "pygments_lexer": "ipython3",
   "version": "3.6.2"
  },
  "latex_envs": {
   "LaTeX_envs_menu_present": true,
   "autocomplete": true,
   "bibliofile": "biblio.bib",
   "cite_by": "apalike",
   "current_citInitial": 1,
   "eqLabelWithNumbers": true,
   "eqNumInitial": 1,
   "hotkeys": {
    "equation": "Ctrl-E",
    "itemize": "Ctrl-I"
   },
   "labels_anchors": false,
   "latex_user_defs": false,
   "report_style_numbering": false,
   "user_envs_cfg": false
  },
  "toc": {
   "colors": {
    "hover_highlight": "#DAA520",
    "navigate_num": "#000000",
    "navigate_text": "#333333",
    "running_highlight": "#FF0000",
    "selected_highlight": "#FFD700",
    "sidebar_border": "#EEEEEE",
    "wrapper_background": "#FFFFFF"
   },
   "moveMenuLeft": true,
   "nav_menu": {
    "height": "131px",
    "width": "252px"
   },
   "navigate_menu": true,
   "number_sections": true,
   "sideBar": true,
   "threshold": 4,
   "toc_cell": false,
   "toc_section_display": "block",
   "toc_window_display": false,
   "widenNotebook": false
  }
 },
 "nbformat": 4,
 "nbformat_minor": 2
}
