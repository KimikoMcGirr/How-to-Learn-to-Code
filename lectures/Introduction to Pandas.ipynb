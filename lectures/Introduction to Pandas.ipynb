{
 "cells": [
  {
   "cell_type": "markdown",
   "metadata": {},
   "source": [
    "# Introduction to Pandas\n",
    "\n",
    "This class introduces the pandas package which is centered around the pandas' DataFrame and Series datatypes. Unlike NumPy, DataFrames can store multiple data types, like ints and strings. Typically, pandas is useful for analyzing data that have multiple entries in separate rows and different information in each column. You can think of a Series (1-dimensional) as one column of data while a DataFrame is made up of multiple columns (2-dimensional). We're primarily focusing on the DataFrame class in this lecture, but it's important for you to know that there are differences between the two datatypes. At the end of this notebook, I've linked some additional resources that further expound on this and other more niche functionalities. "
   ]
  },
  {
   "cell_type": "code",
   "execution_count": 80,
   "metadata": {
    "ExecuteTime": {
     "end_time": "2018-06-28T02:42:07.027448Z",
     "start_time": "2018-06-28T02:42:06.985370Z"
    },
    "collapsed": true
   },
   "outputs": [],
   "source": [
    "import pandas as pd"
   ]
  },
  {
   "cell_type": "markdown",
   "metadata": {},
   "source": [
    "# Loading in a file\n",
    "\n",
    "I'm using the example bed file from Level 3 to introduce pandas since it's something that we're used to seeing."
   ]
  },
  {
   "cell_type": "code",
   "execution_count": 81,
   "metadata": {
    "ExecuteTime": {
     "end_time": "2018-06-28T02:42:07.382783Z",
     "start_time": "2018-06-28T02:42:07.374546Z"
    },
    "collapsed": true
   },
   "outputs": [],
   "source": [
    "bed = 'C:/Users/sksuzuki/Documents/EXCISION/level_3/ENCFF239FSU.bed'"
   ]
  },
  {
   "cell_type": "markdown",
   "metadata": {},
   "source": [
    "We can read files using the ```read_csv()``` function, and specify how our data is separated. Here our data is tab-separated."
   ]
  },
  {
   "cell_type": "code",
   "execution_count": 82,
   "metadata": {
    "ExecuteTime": {
     "end_time": "2018-06-28T02:42:08.926433Z",
     "start_time": "2018-06-28T02:42:08.833555Z"
    }
   },
   "outputs": [
    {
     "data": {
      "text/html": [
       "<div>\n",
       "<style>\n",
       "    .dataframe thead tr:only-child th {\n",
       "        text-align: right;\n",
       "    }\n",
       "\n",
       "    .dataframe thead th {\n",
       "        text-align: left;\n",
       "    }\n",
       "\n",
       "    .dataframe tbody tr th {\n",
       "        vertical-align: top;\n",
       "    }\n",
       "</style>\n",
       "<table border=\"1\" class=\"dataframe\">\n",
       "  <thead>\n",
       "    <tr style=\"text-align: right;\">\n",
       "      <th></th>\n",
       "      <th>chr1</th>\n",
       "      <th>230125030</th>\n",
       "      <th>230174106</th>\n",
       "      <th>ENST00000454058.2</th>\n",
       "      <th>0</th>\n",
       "      <th>+</th>\n",
       "    </tr>\n",
       "  </thead>\n",
       "  <tbody>\n",
       "    <tr>\n",
       "      <th>0</th>\n",
       "      <td>chr1</td>\n",
       "      <td>29913143</td>\n",
       "      <td>29915337</td>\n",
       "      <td>ENST00000623731.1</td>\n",
       "      <td>0</td>\n",
       "      <td>+</td>\n",
       "    </tr>\n",
       "    <tr>\n",
       "      <th>1</th>\n",
       "      <td>chr1</td>\n",
       "      <td>61801712</td>\n",
       "      <td>61803634</td>\n",
       "      <td>ENST00000624542.1</td>\n",
       "      <td>0</td>\n",
       "      <td>+</td>\n",
       "    </tr>\n",
       "    <tr>\n",
       "      <th>2</th>\n",
       "      <td>chr1</td>\n",
       "      <td>23567063</td>\n",
       "      <td>23573122</td>\n",
       "      <td>ENST00000454863.3</td>\n",
       "      <td>0</td>\n",
       "      <td>-</td>\n",
       "    </tr>\n",
       "    <tr>\n",
       "      <th>3</th>\n",
       "      <td>chr1</td>\n",
       "      <td>82587312</td>\n",
       "      <td>82588411</td>\n",
       "      <td>ENST00000575085.1</td>\n",
       "      <td>0</td>\n",
       "      <td>+</td>\n",
       "    </tr>\n",
       "    <tr>\n",
       "      <th>4</th>\n",
       "      <td>chr1</td>\n",
       "      <td>127401725</td>\n",
       "      <td>127470569</td>\n",
       "      <td>ENST00000509671.1</td>\n",
       "      <td>0</td>\n",
       "      <td>+</td>\n",
       "    </tr>\n",
       "  </tbody>\n",
       "</table>\n",
       "</div>"
      ],
      "text/plain": [
       "   chr1  230125030  230174106  ENST00000454058.2  0  +\n",
       "0  chr1   29913143   29915337  ENST00000623731.1  0  +\n",
       "1  chr1   61801712   61803634  ENST00000624542.1  0  +\n",
       "2  chr1   23567063   23573122  ENST00000454863.3  0  -\n",
       "3  chr1   82587312   82588411  ENST00000575085.1  0  +\n",
       "4  chr1  127401725  127470569  ENST00000509671.1  0  +"
      ]
     },
     "execution_count": 82,
     "metadata": {},
     "output_type": "execute_result"
    }
   ],
   "source": [
    "df = pd.read_csv(bed, sep = '\\t')\n",
    "df.head()"
   ]
  },
  {
   "cell_type": "markdown",
   "metadata": {},
   "source": [
    "Since our data does not have headers to out columns, we can specify that using the ```header``` argument."
   ]
  },
  {
   "cell_type": "code",
   "execution_count": 18,
   "metadata": {
    "ExecuteTime": {
     "end_time": "2018-06-26T13:33:26.940820Z",
     "start_time": "2018-06-26T13:33:26.920482Z"
    }
   },
   "outputs": [
    {
     "data": {
      "text/html": [
       "<div>\n",
       "<style>\n",
       "    .dataframe thead tr:only-child th {\n",
       "        text-align: right;\n",
       "    }\n",
       "\n",
       "    .dataframe thead th {\n",
       "        text-align: left;\n",
       "    }\n",
       "\n",
       "    .dataframe tbody tr th {\n",
       "        vertical-align: top;\n",
       "    }\n",
       "</style>\n",
       "<table border=\"1\" class=\"dataframe\">\n",
       "  <thead>\n",
       "    <tr style=\"text-align: right;\">\n",
       "      <th></th>\n",
       "      <th>0</th>\n",
       "      <th>1</th>\n",
       "      <th>2</th>\n",
       "      <th>3</th>\n",
       "      <th>4</th>\n",
       "      <th>5</th>\n",
       "    </tr>\n",
       "  </thead>\n",
       "  <tbody>\n",
       "    <tr>\n",
       "      <th>0</th>\n",
       "      <td>chr1</td>\n",
       "      <td>230125030</td>\n",
       "      <td>230174106</td>\n",
       "      <td>ENST00000454058.2</td>\n",
       "      <td>0</td>\n",
       "      <td>+</td>\n",
       "    </tr>\n",
       "    <tr>\n",
       "      <th>1</th>\n",
       "      <td>chr1</td>\n",
       "      <td>29913143</td>\n",
       "      <td>29915337</td>\n",
       "      <td>ENST00000623731.1</td>\n",
       "      <td>0</td>\n",
       "      <td>+</td>\n",
       "    </tr>\n",
       "    <tr>\n",
       "      <th>2</th>\n",
       "      <td>chr1</td>\n",
       "      <td>61801712</td>\n",
       "      <td>61803634</td>\n",
       "      <td>ENST00000624542.1</td>\n",
       "      <td>0</td>\n",
       "      <td>+</td>\n",
       "    </tr>\n",
       "    <tr>\n",
       "      <th>3</th>\n",
       "      <td>chr1</td>\n",
       "      <td>23567063</td>\n",
       "      <td>23573122</td>\n",
       "      <td>ENST00000454863.3</td>\n",
       "      <td>0</td>\n",
       "      <td>-</td>\n",
       "    </tr>\n",
       "    <tr>\n",
       "      <th>4</th>\n",
       "      <td>chr1</td>\n",
       "      <td>82587312</td>\n",
       "      <td>82588411</td>\n",
       "      <td>ENST00000575085.1</td>\n",
       "      <td>0</td>\n",
       "      <td>+</td>\n",
       "    </tr>\n",
       "  </tbody>\n",
       "</table>\n",
       "</div>"
      ],
      "text/plain": [
       "      0          1          2                  3  4  5\n",
       "0  chr1  230125030  230174106  ENST00000454058.2  0  +\n",
       "1  chr1   29913143   29915337  ENST00000623731.1  0  +\n",
       "2  chr1   61801712   61803634  ENST00000624542.1  0  +\n",
       "3  chr1   23567063   23573122  ENST00000454863.3  0  -\n",
       "4  chr1   82587312   82588411  ENST00000575085.1  0  +"
      ]
     },
     "execution_count": 18,
     "metadata": {},
     "output_type": "execute_result"
    }
   ],
   "source": [
    "df = pd.read_csv(bed, sep = '\\t', header = None)\n",
    "df.head()"
   ]
  },
  {
   "cell_type": "markdown",
   "metadata": {},
   "source": [
    "# Indexing and slicing\n",
    "\n",
    "Indexing and slicing are both important to know how to look at particular portions of your data. Importantly, the ```index``` of a DataFrame refers to the index of the rows while just ```columns``` or ```headers``` refer to the names of the columns. Here are some of the most commonly used attributes and functions:"
   ]
  },
  {
   "cell_type": "code",
   "execution_count": 19,
   "metadata": {
    "ExecuteTime": {
     "end_time": "2018-06-26T13:33:28.904218Z",
     "start_time": "2018-06-26T13:33:28.895303Z"
    }
   },
   "outputs": [
    {
     "data": {
      "text/plain": [
       "RangeIndex(start=0, stop=12, step=1)"
      ]
     },
     "execution_count": 19,
     "metadata": {},
     "output_type": "execute_result"
    }
   ],
   "source": [
    "df.index"
   ]
  },
  {
   "cell_type": "markdown",
   "metadata": {},
   "source": [
    "Since we didn't specify or import any index or headers for our DataFrame, Pandas defaults to setting them to numbers."
   ]
  },
  {
   "cell_type": "code",
   "execution_count": 20,
   "metadata": {
    "ExecuteTime": {
     "end_time": "2018-06-26T13:33:29.382255Z",
     "start_time": "2018-06-26T13:33:29.373754Z"
    }
   },
   "outputs": [
    {
     "data": {
      "text/plain": [
       "Int64Index([0, 1, 2, 3, 4, 5], dtype='int64')"
      ]
     },
     "execution_count": 20,
     "metadata": {},
     "output_type": "execute_result"
    }
   ],
   "source": [
    "df.columns"
   ]
  },
  {
   "cell_type": "markdown",
   "metadata": {},
   "source": [
    "We can rename our headers so that they're more descriptive of each column."
   ]
  },
  {
   "cell_type": "code",
   "execution_count": 83,
   "metadata": {
    "ExecuteTime": {
     "end_time": "2018-06-28T02:52:25.579763Z",
     "start_time": "2018-06-28T02:52:25.568220Z"
    },
    "collapsed": true
   },
   "outputs": [],
   "source": [
    "df.columns = ['chromosome', 'start', 'end', 'gene', 'score', 'strand']"
   ]
  },
  {
   "cell_type": "markdown",
   "metadata": {},
   "source": [
    "We can sort by a particular column (notice the difference in the index)"
   ]
  },
  {
   "cell_type": "code",
   "execution_count": 27,
   "metadata": {
    "ExecuteTime": {
     "end_time": "2018-06-26T13:39:10.710974Z",
     "start_time": "2018-06-26T13:39:10.688863Z"
    }
   },
   "outputs": [
    {
     "data": {
      "text/html": [
       "<div>\n",
       "<style>\n",
       "    .dataframe thead tr:only-child th {\n",
       "        text-align: right;\n",
       "    }\n",
       "\n",
       "    .dataframe thead th {\n",
       "        text-align: left;\n",
       "    }\n",
       "\n",
       "    .dataframe tbody tr th {\n",
       "        vertical-align: top;\n",
       "    }\n",
       "</style>\n",
       "<table border=\"1\" class=\"dataframe\">\n",
       "  <thead>\n",
       "    <tr style=\"text-align: right;\">\n",
       "      <th></th>\n",
       "      <th>chromosome</th>\n",
       "      <th>start</th>\n",
       "      <th>end</th>\n",
       "      <th>gene</th>\n",
       "      <th>score</th>\n",
       "      <th>strand</th>\n",
       "    </tr>\n",
       "  </thead>\n",
       "  <tbody>\n",
       "    <tr>\n",
       "      <th>0</th>\n",
       "      <td>chr1</td>\n",
       "      <td>230125030</td>\n",
       "      <td>230174106</td>\n",
       "      <td>ENST00000454058.2</td>\n",
       "      <td>0</td>\n",
       "      <td>+</td>\n",
       "    </tr>\n",
       "    <tr>\n",
       "      <th>3</th>\n",
       "      <td>chr1</td>\n",
       "      <td>23567063</td>\n",
       "      <td>23573122</td>\n",
       "      <td>ENST00000454863.3</td>\n",
       "      <td>0</td>\n",
       "      <td>-</td>\n",
       "    </tr>\n",
       "    <tr>\n",
       "      <th>6</th>\n",
       "      <td>chr3</td>\n",
       "      <td>86481942</td>\n",
       "      <td>86496996</td>\n",
       "      <td>ENST00000460586.1</td>\n",
       "      <td>0</td>\n",
       "      <td>+</td>\n",
       "    </tr>\n",
       "    <tr>\n",
       "      <th>11</th>\n",
       "      <td>chr3</td>\n",
       "      <td>94876501</td>\n",
       "      <td>94888501</td>\n",
       "      <td>ENST00000460599.2</td>\n",
       "      <td>0</td>\n",
       "      <td>+</td>\n",
       "    </tr>\n",
       "    <tr>\n",
       "      <th>10</th>\n",
       "      <td>chr3</td>\n",
       "      <td>91488742</td>\n",
       "      <td>91876543</td>\n",
       "      <td>ENST00000460876.1</td>\n",
       "      <td>0</td>\n",
       "      <td>+</td>\n",
       "    </tr>\n",
       "    <tr>\n",
       "      <th>8</th>\n",
       "      <td>chr3</td>\n",
       "      <td>61801712</td>\n",
       "      <td>61803634</td>\n",
       "      <td>ENST00000465586.1</td>\n",
       "      <td>0</td>\n",
       "      <td>+</td>\n",
       "    </tr>\n",
       "    <tr>\n",
       "      <th>9</th>\n",
       "      <td>chr3</td>\n",
       "      <td>87881990</td>\n",
       "      <td>87883995</td>\n",
       "      <td>ENST00000466786.1</td>\n",
       "      <td>0</td>\n",
       "      <td>+</td>\n",
       "    </tr>\n",
       "    <tr>\n",
       "      <th>5</th>\n",
       "      <td>chr1</td>\n",
       "      <td>127401725</td>\n",
       "      <td>127470569</td>\n",
       "      <td>ENST00000509671.1</td>\n",
       "      <td>0</td>\n",
       "      <td>+</td>\n",
       "    </tr>\n",
       "    <tr>\n",
       "      <th>7</th>\n",
       "      <td>chr1</td>\n",
       "      <td>53947623</td>\n",
       "      <td>53974950</td>\n",
       "      <td>ENST00000558866.4</td>\n",
       "      <td>0</td>\n",
       "      <td>+</td>\n",
       "    </tr>\n",
       "    <tr>\n",
       "      <th>4</th>\n",
       "      <td>chr1</td>\n",
       "      <td>82587312</td>\n",
       "      <td>82588411</td>\n",
       "      <td>ENST00000575085.1</td>\n",
       "      <td>0</td>\n",
       "      <td>+</td>\n",
       "    </tr>\n",
       "    <tr>\n",
       "      <th>1</th>\n",
       "      <td>chr1</td>\n",
       "      <td>29913143</td>\n",
       "      <td>29915337</td>\n",
       "      <td>ENST00000623731.1</td>\n",
       "      <td>0</td>\n",
       "      <td>+</td>\n",
       "    </tr>\n",
       "    <tr>\n",
       "      <th>2</th>\n",
       "      <td>chr1</td>\n",
       "      <td>61801712</td>\n",
       "      <td>61803634</td>\n",
       "      <td>ENST00000624542.1</td>\n",
       "      <td>0</td>\n",
       "      <td>+</td>\n",
       "    </tr>\n",
       "  </tbody>\n",
       "</table>\n",
       "</div>"
      ],
      "text/plain": [
       "   chromosome      start        end               gene  score strand\n",
       "0        chr1  230125030  230174106  ENST00000454058.2      0      +\n",
       "3        chr1   23567063   23573122  ENST00000454863.3      0      -\n",
       "6        chr3   86481942   86496996  ENST00000460586.1      0      +\n",
       "11       chr3   94876501   94888501  ENST00000460599.2      0      +\n",
       "10       chr3   91488742   91876543  ENST00000460876.1      0      +\n",
       "8        chr3   61801712   61803634  ENST00000465586.1      0      +\n",
       "9        chr3   87881990   87883995  ENST00000466786.1      0      +\n",
       "5        chr1  127401725  127470569  ENST00000509671.1      0      +\n",
       "7        chr1   53947623   53974950  ENST00000558866.4      0      +\n",
       "4        chr1   82587312   82588411  ENST00000575085.1      0      +\n",
       "1        chr1   29913143   29915337  ENST00000623731.1      0      +\n",
       "2        chr1   61801712   61803634  ENST00000624542.1      0      +"
      ]
     },
     "execution_count": 27,
     "metadata": {},
     "output_type": "execute_result"
    }
   ],
   "source": [
    "df.sort_values(by='gene')"
   ]
  },
  {
   "cell_type": "markdown",
   "metadata": {},
   "source": [
    "We can grab one column"
   ]
  },
  {
   "cell_type": "code",
   "execution_count": 28,
   "metadata": {
    "ExecuteTime": {
     "end_time": "2018-06-26T13:39:21.856486Z",
     "start_time": "2018-06-26T13:39:21.846763Z"
    }
   },
   "outputs": [
    {
     "data": {
      "text/plain": [
       "0     chr1\n",
       "1     chr1\n",
       "2     chr1\n",
       "3     chr1\n",
       "4     chr1\n",
       "5     chr1\n",
       "6     chr3\n",
       "7     chr1\n",
       "8     chr3\n",
       "9     chr3\n",
       "10    chr3\n",
       "11    chr3\n",
       "Name: chromosome, dtype: object"
      ]
     },
     "execution_count": 28,
     "metadata": {},
     "output_type": "execute_result"
    }
   ],
   "source": [
    "df['chromosome']"
   ]
  },
  {
   "cell_type": "markdown",
   "metadata": {},
   "source": [
    "Or grab a range of rows"
   ]
  },
  {
   "cell_type": "code",
   "execution_count": 30,
   "metadata": {
    "ExecuteTime": {
     "end_time": "2018-06-26T13:56:10.725037Z",
     "start_time": "2018-06-26T13:56:10.704097Z"
    },
    "scrolled": false
   },
   "outputs": [
    {
     "data": {
      "text/html": [
       "<div>\n",
       "<style>\n",
       "    .dataframe thead tr:only-child th {\n",
       "        text-align: right;\n",
       "    }\n",
       "\n",
       "    .dataframe thead th {\n",
       "        text-align: left;\n",
       "    }\n",
       "\n",
       "    .dataframe tbody tr th {\n",
       "        vertical-align: top;\n",
       "    }\n",
       "</style>\n",
       "<table border=\"1\" class=\"dataframe\">\n",
       "  <thead>\n",
       "    <tr style=\"text-align: right;\">\n",
       "      <th></th>\n",
       "      <th>chromosome</th>\n",
       "      <th>start</th>\n",
       "      <th>end</th>\n",
       "      <th>gene</th>\n",
       "      <th>score</th>\n",
       "      <th>strand</th>\n",
       "    </tr>\n",
       "  </thead>\n",
       "  <tbody>\n",
       "    <tr>\n",
       "      <th>0</th>\n",
       "      <td>chr1</td>\n",
       "      <td>230125030</td>\n",
       "      <td>230174106</td>\n",
       "      <td>ENST00000454058.2</td>\n",
       "      <td>0</td>\n",
       "      <td>+</td>\n",
       "    </tr>\n",
       "    <tr>\n",
       "      <th>1</th>\n",
       "      <td>chr1</td>\n",
       "      <td>29913143</td>\n",
       "      <td>29915337</td>\n",
       "      <td>ENST00000623731.1</td>\n",
       "      <td>0</td>\n",
       "      <td>+</td>\n",
       "    </tr>\n",
       "    <tr>\n",
       "      <th>2</th>\n",
       "      <td>chr1</td>\n",
       "      <td>61801712</td>\n",
       "      <td>61803634</td>\n",
       "      <td>ENST00000624542.1</td>\n",
       "      <td>0</td>\n",
       "      <td>+</td>\n",
       "    </tr>\n",
       "  </tbody>\n",
       "</table>\n",
       "</div>"
      ],
      "text/plain": [
       "  chromosome      start        end               gene  score strand\n",
       "0       chr1  230125030  230174106  ENST00000454058.2      0      +\n",
       "1       chr1   29913143   29915337  ENST00000623731.1      0      +\n",
       "2       chr1   61801712   61803634  ENST00000624542.1      0      +"
      ]
     },
     "execution_count": 30,
     "metadata": {},
     "output_type": "execute_result"
    }
   ],
   "source": [
    "df[0:3]"
   ]
  },
  {
   "cell_type": "markdown",
   "metadata": {},
   "source": [
    "There are two different ways that you can select a subset of your DataFrame: by label and by position. When selecting by label, you're specifying the row and columns you want by their index and headers. When selecting by position, that's reflective of the literal position in the DataFrame. This is important when you filter or reorder your DataFrame."
   ]
  },
  {
   "cell_type": "markdown",
   "metadata": {},
   "source": [
    "**Selection by Label** \n",
    "\n",
    "using ```.loc```"
   ]
  },
  {
   "cell_type": "code",
   "execution_count": 31,
   "metadata": {
    "ExecuteTime": {
     "end_time": "2018-06-26T13:57:45.025779Z",
     "start_time": "2018-06-26T13:57:45.003326Z"
    }
   },
   "outputs": [
    {
     "data": {
      "text/html": [
       "<div>\n",
       "<style>\n",
       "    .dataframe thead tr:only-child th {\n",
       "        text-align: right;\n",
       "    }\n",
       "\n",
       "    .dataframe thead th {\n",
       "        text-align: left;\n",
       "    }\n",
       "\n",
       "    .dataframe tbody tr th {\n",
       "        vertical-align: top;\n",
       "    }\n",
       "</style>\n",
       "<table border=\"1\" class=\"dataframe\">\n",
       "  <thead>\n",
       "    <tr style=\"text-align: right;\">\n",
       "      <th></th>\n",
       "      <th>start</th>\n",
       "      <th>strand</th>\n",
       "    </tr>\n",
       "  </thead>\n",
       "  <tbody>\n",
       "    <tr>\n",
       "      <th>0</th>\n",
       "      <td>230125030</td>\n",
       "      <td>+</td>\n",
       "    </tr>\n",
       "    <tr>\n",
       "      <th>1</th>\n",
       "      <td>29913143</td>\n",
       "      <td>+</td>\n",
       "    </tr>\n",
       "    <tr>\n",
       "      <th>2</th>\n",
       "      <td>61801712</td>\n",
       "      <td>+</td>\n",
       "    </tr>\n",
       "    <tr>\n",
       "      <th>3</th>\n",
       "      <td>23567063</td>\n",
       "      <td>-</td>\n",
       "    </tr>\n",
       "    <tr>\n",
       "      <th>4</th>\n",
       "      <td>82587312</td>\n",
       "      <td>+</td>\n",
       "    </tr>\n",
       "    <tr>\n",
       "      <th>5</th>\n",
       "      <td>127401725</td>\n",
       "      <td>+</td>\n",
       "    </tr>\n",
       "    <tr>\n",
       "      <th>6</th>\n",
       "      <td>86481942</td>\n",
       "      <td>+</td>\n",
       "    </tr>\n",
       "    <tr>\n",
       "      <th>7</th>\n",
       "      <td>53947623</td>\n",
       "      <td>+</td>\n",
       "    </tr>\n",
       "    <tr>\n",
       "      <th>8</th>\n",
       "      <td>61801712</td>\n",
       "      <td>+</td>\n",
       "    </tr>\n",
       "    <tr>\n",
       "      <th>9</th>\n",
       "      <td>87881990</td>\n",
       "      <td>+</td>\n",
       "    </tr>\n",
       "    <tr>\n",
       "      <th>10</th>\n",
       "      <td>91488742</td>\n",
       "      <td>+</td>\n",
       "    </tr>\n",
       "    <tr>\n",
       "      <th>11</th>\n",
       "      <td>94876501</td>\n",
       "      <td>+</td>\n",
       "    </tr>\n",
       "  </tbody>\n",
       "</table>\n",
       "</div>"
      ],
      "text/plain": [
       "        start strand\n",
       "0   230125030      +\n",
       "1    29913143      +\n",
       "2    61801712      +\n",
       "3    23567063      -\n",
       "4    82587312      +\n",
       "5   127401725      +\n",
       "6    86481942      +\n",
       "7    53947623      +\n",
       "8    61801712      +\n",
       "9    87881990      +\n",
       "10   91488742      +\n",
       "11   94876501      +"
      ]
     },
     "execution_count": 31,
     "metadata": {},
     "output_type": "execute_result"
    }
   ],
   "source": [
    "df.loc[:,['start','strand']]"
   ]
  },
  {
   "cell_type": "code",
   "execution_count": 32,
   "metadata": {
    "ExecuteTime": {
     "end_time": "2018-06-26T13:58:14.546900Z",
     "start_time": "2018-06-26T13:58:14.534606Z"
    }
   },
   "outputs": [
    {
     "data": {
      "text/html": [
       "<div>\n",
       "<style>\n",
       "    .dataframe thead tr:only-child th {\n",
       "        text-align: right;\n",
       "    }\n",
       "\n",
       "    .dataframe thead th {\n",
       "        text-align: left;\n",
       "    }\n",
       "\n",
       "    .dataframe tbody tr th {\n",
       "        vertical-align: top;\n",
       "    }\n",
       "</style>\n",
       "<table border=\"1\" class=\"dataframe\">\n",
       "  <thead>\n",
       "    <tr style=\"text-align: right;\">\n",
       "      <th></th>\n",
       "      <th>start</th>\n",
       "      <th>strand</th>\n",
       "    </tr>\n",
       "  </thead>\n",
       "  <tbody>\n",
       "    <tr>\n",
       "      <th>4</th>\n",
       "      <td>82587312</td>\n",
       "      <td>+</td>\n",
       "    </tr>\n",
       "    <tr>\n",
       "      <th>5</th>\n",
       "      <td>127401725</td>\n",
       "      <td>+</td>\n",
       "    </tr>\n",
       "    <tr>\n",
       "      <th>6</th>\n",
       "      <td>86481942</td>\n",
       "      <td>+</td>\n",
       "    </tr>\n",
       "    <tr>\n",
       "      <th>7</th>\n",
       "      <td>53947623</td>\n",
       "      <td>+</td>\n",
       "    </tr>\n",
       "    <tr>\n",
       "      <th>8</th>\n",
       "      <td>61801712</td>\n",
       "      <td>+</td>\n",
       "    </tr>\n",
       "    <tr>\n",
       "      <th>9</th>\n",
       "      <td>87881990</td>\n",
       "      <td>+</td>\n",
       "    </tr>\n",
       "    <tr>\n",
       "      <th>10</th>\n",
       "      <td>91488742</td>\n",
       "      <td>+</td>\n",
       "    </tr>\n",
       "  </tbody>\n",
       "</table>\n",
       "</div>"
      ],
      "text/plain": [
       "        start strand\n",
       "4    82587312      +\n",
       "5   127401725      +\n",
       "6    86481942      +\n",
       "7    53947623      +\n",
       "8    61801712      +\n",
       "9    87881990      +\n",
       "10   91488742      +"
      ]
     },
     "execution_count": 32,
     "metadata": {},
     "output_type": "execute_result"
    }
   ],
   "source": [
    "df.loc[4:10,['start','strand']]"
   ]
  },
  {
   "cell_type": "markdown",
   "metadata": {},
   "source": [
    "**Selection by Postion**\n",
    "\n",
    "using ```.iloc```"
   ]
  },
  {
   "cell_type": "code",
   "execution_count": 33,
   "metadata": {
    "ExecuteTime": {
     "end_time": "2018-06-26T13:59:06.296866Z",
     "start_time": "2018-06-26T13:59:06.284214Z"
    }
   },
   "outputs": [
    {
     "data": {
      "text/plain": [
       "chromosome                 chr1\n",
       "start                  23567063\n",
       "end                    23573122\n",
       "gene          ENST00000454863.3\n",
       "score                         0\n",
       "strand                        -\n",
       "Name: 3, dtype: object"
      ]
     },
     "execution_count": 33,
     "metadata": {},
     "output_type": "execute_result"
    }
   ],
   "source": [
    "df.iloc[3]"
   ]
  },
  {
   "cell_type": "code",
   "execution_count": 34,
   "metadata": {
    "ExecuteTime": {
     "end_time": "2018-06-26T13:59:37.432388Z",
     "start_time": "2018-06-26T13:59:37.419196Z"
    }
   },
   "outputs": [
    {
     "data": {
      "text/html": [
       "<div>\n",
       "<style>\n",
       "    .dataframe thead tr:only-child th {\n",
       "        text-align: right;\n",
       "    }\n",
       "\n",
       "    .dataframe thead th {\n",
       "        text-align: left;\n",
       "    }\n",
       "\n",
       "    .dataframe tbody tr th {\n",
       "        vertical-align: top;\n",
       "    }\n",
       "</style>\n",
       "<table border=\"1\" class=\"dataframe\">\n",
       "  <thead>\n",
       "    <tr style=\"text-align: right;\">\n",
       "      <th></th>\n",
       "      <th>chromosome</th>\n",
       "      <th>start</th>\n",
       "    </tr>\n",
       "  </thead>\n",
       "  <tbody>\n",
       "    <tr>\n",
       "      <th>3</th>\n",
       "      <td>chr1</td>\n",
       "      <td>23567063</td>\n",
       "    </tr>\n",
       "    <tr>\n",
       "      <th>4</th>\n",
       "      <td>chr1</td>\n",
       "      <td>82587312</td>\n",
       "    </tr>\n",
       "  </tbody>\n",
       "</table>\n",
       "</div>"
      ],
      "text/plain": [
       "  chromosome     start\n",
       "3       chr1  23567063\n",
       "4       chr1  82587312"
      ]
     },
     "execution_count": 34,
     "metadata": {},
     "output_type": "execute_result"
    }
   ],
   "source": [
    "df.iloc[3:5,0:2] #similar to numpy method"
   ]
  },
  {
   "cell_type": "code",
   "execution_count": 35,
   "metadata": {
    "ExecuteTime": {
     "end_time": "2018-06-26T13:59:58.905535Z",
     "start_time": "2018-06-26T13:59:58.882531Z"
    }
   },
   "outputs": [
    {
     "data": {
      "text/html": [
       "<div>\n",
       "<style>\n",
       "    .dataframe thead tr:only-child th {\n",
       "        text-align: right;\n",
       "    }\n",
       "\n",
       "    .dataframe thead th {\n",
       "        text-align: left;\n",
       "    }\n",
       "\n",
       "    .dataframe tbody tr th {\n",
       "        vertical-align: top;\n",
       "    }\n",
       "</style>\n",
       "<table border=\"1\" class=\"dataframe\">\n",
       "  <thead>\n",
       "    <tr style=\"text-align: right;\">\n",
       "      <th></th>\n",
       "      <th>chromosome</th>\n",
       "      <th>start</th>\n",
       "      <th>end</th>\n",
       "      <th>gene</th>\n",
       "      <th>score</th>\n",
       "      <th>strand</th>\n",
       "    </tr>\n",
       "  </thead>\n",
       "  <tbody>\n",
       "    <tr>\n",
       "      <th>1</th>\n",
       "      <td>chr1</td>\n",
       "      <td>29913143</td>\n",
       "      <td>29915337</td>\n",
       "      <td>ENST00000623731.1</td>\n",
       "      <td>0</td>\n",
       "      <td>+</td>\n",
       "    </tr>\n",
       "    <tr>\n",
       "      <th>2</th>\n",
       "      <td>chr1</td>\n",
       "      <td>61801712</td>\n",
       "      <td>61803634</td>\n",
       "      <td>ENST00000624542.1</td>\n",
       "      <td>0</td>\n",
       "      <td>+</td>\n",
       "    </tr>\n",
       "  </tbody>\n",
       "</table>\n",
       "</div>"
      ],
      "text/plain": [
       "  chromosome     start       end               gene  score strand\n",
       "1       chr1  29913143  29915337  ENST00000623731.1      0      +\n",
       "2       chr1  61801712  61803634  ENST00000624542.1      0      +"
      ]
     },
     "execution_count": 35,
     "metadata": {},
     "output_type": "execute_result"
    }
   ],
   "source": [
    "df.iloc[1:3,:] #slicing rows explicitly"
   ]
  },
  {
   "cell_type": "code",
   "execution_count": 36,
   "metadata": {
    "ExecuteTime": {
     "end_time": "2018-06-26T14:00:44.822284Z",
     "start_time": "2018-06-26T14:00:44.806326Z"
    }
   },
   "outputs": [
    {
     "data": {
      "text/html": [
       "<div>\n",
       "<style>\n",
       "    .dataframe thead tr:only-child th {\n",
       "        text-align: right;\n",
       "    }\n",
       "\n",
       "    .dataframe thead th {\n",
       "        text-align: left;\n",
       "    }\n",
       "\n",
       "    .dataframe tbody tr th {\n",
       "        vertical-align: top;\n",
       "    }\n",
       "</style>\n",
       "<table border=\"1\" class=\"dataframe\">\n",
       "  <thead>\n",
       "    <tr style=\"text-align: right;\">\n",
       "      <th></th>\n",
       "      <th>start</th>\n",
       "      <th>end</th>\n",
       "    </tr>\n",
       "  </thead>\n",
       "  <tbody>\n",
       "    <tr>\n",
       "      <th>0</th>\n",
       "      <td>230125030</td>\n",
       "      <td>230174106</td>\n",
       "    </tr>\n",
       "    <tr>\n",
       "      <th>1</th>\n",
       "      <td>29913143</td>\n",
       "      <td>29915337</td>\n",
       "    </tr>\n",
       "    <tr>\n",
       "      <th>2</th>\n",
       "      <td>61801712</td>\n",
       "      <td>61803634</td>\n",
       "    </tr>\n",
       "    <tr>\n",
       "      <th>3</th>\n",
       "      <td>23567063</td>\n",
       "      <td>23573122</td>\n",
       "    </tr>\n",
       "    <tr>\n",
       "      <th>4</th>\n",
       "      <td>82587312</td>\n",
       "      <td>82588411</td>\n",
       "    </tr>\n",
       "    <tr>\n",
       "      <th>5</th>\n",
       "      <td>127401725</td>\n",
       "      <td>127470569</td>\n",
       "    </tr>\n",
       "    <tr>\n",
       "      <th>6</th>\n",
       "      <td>86481942</td>\n",
       "      <td>86496996</td>\n",
       "    </tr>\n",
       "    <tr>\n",
       "      <th>7</th>\n",
       "      <td>53947623</td>\n",
       "      <td>53974950</td>\n",
       "    </tr>\n",
       "    <tr>\n",
       "      <th>8</th>\n",
       "      <td>61801712</td>\n",
       "      <td>61803634</td>\n",
       "    </tr>\n",
       "    <tr>\n",
       "      <th>9</th>\n",
       "      <td>87881990</td>\n",
       "      <td>87883995</td>\n",
       "    </tr>\n",
       "    <tr>\n",
       "      <th>10</th>\n",
       "      <td>91488742</td>\n",
       "      <td>91876543</td>\n",
       "    </tr>\n",
       "    <tr>\n",
       "      <th>11</th>\n",
       "      <td>94876501</td>\n",
       "      <td>94888501</td>\n",
       "    </tr>\n",
       "  </tbody>\n",
       "</table>\n",
       "</div>"
      ],
      "text/plain": [
       "        start        end\n",
       "0   230125030  230174106\n",
       "1    29913143   29915337\n",
       "2    61801712   61803634\n",
       "3    23567063   23573122\n",
       "4    82587312   82588411\n",
       "5   127401725  127470569\n",
       "6    86481942   86496996\n",
       "7    53947623   53974950\n",
       "8    61801712   61803634\n",
       "9    87881990   87883995\n",
       "10   91488742   91876543\n",
       "11   94876501   94888501"
      ]
     },
     "execution_count": 36,
     "metadata": {},
     "output_type": "execute_result"
    }
   ],
   "source": [
    "df.iloc[:,1:3] #slicing columns explicitly"
   ]
  },
  {
   "cell_type": "markdown",
   "metadata": {},
   "source": [
    "# Thresholding and Filtering"
   ]
  },
  {
   "cell_type": "code",
   "execution_count": 44,
   "metadata": {
    "ExecuteTime": {
     "end_time": "2018-06-26T14:02:40.168522Z",
     "start_time": "2018-06-26T14:02:40.151889Z"
    },
    "scrolled": true
   },
   "outputs": [
    {
     "data": {
      "text/html": [
       "<div>\n",
       "<style>\n",
       "    .dataframe thead tr:only-child th {\n",
       "        text-align: right;\n",
       "    }\n",
       "\n",
       "    .dataframe thead th {\n",
       "        text-align: left;\n",
       "    }\n",
       "\n",
       "    .dataframe tbody tr th {\n",
       "        vertical-align: top;\n",
       "    }\n",
       "</style>\n",
       "<table border=\"1\" class=\"dataframe\">\n",
       "  <thead>\n",
       "    <tr style=\"text-align: right;\">\n",
       "      <th></th>\n",
       "      <th>chromosome</th>\n",
       "      <th>start</th>\n",
       "      <th>end</th>\n",
       "      <th>gene</th>\n",
       "      <th>score</th>\n",
       "      <th>strand</th>\n",
       "    </tr>\n",
       "  </thead>\n",
       "  <tbody>\n",
       "    <tr>\n",
       "      <th>0</th>\n",
       "      <td>chr1</td>\n",
       "      <td>230125030</td>\n",
       "      <td>230174106</td>\n",
       "      <td>ENST00000454058.2</td>\n",
       "      <td>0</td>\n",
       "      <td>+</td>\n",
       "    </tr>\n",
       "    <tr>\n",
       "      <th>5</th>\n",
       "      <td>chr1</td>\n",
       "      <td>127401725</td>\n",
       "      <td>127470569</td>\n",
       "      <td>ENST00000509671.1</td>\n",
       "      <td>0</td>\n",
       "      <td>+</td>\n",
       "    </tr>\n",
       "  </tbody>\n",
       "</table>\n",
       "</div>"
      ],
      "text/plain": [
       "  chromosome      start        end               gene  score strand\n",
       "0       chr1  230125030  230174106  ENST00000454058.2      0      +\n",
       "5       chr1  127401725  127470569  ENST00000509671.1      0      +"
      ]
     },
     "execution_count": 44,
     "metadata": {},
     "output_type": "execute_result"
    }
   ],
   "source": [
    "df[df['start'] > 100000000]"
   ]
  },
  {
   "cell_type": "code",
   "execution_count": 45,
   "metadata": {
    "ExecuteTime": {
     "end_time": "2018-06-26T14:03:24.610512Z",
     "start_time": "2018-06-26T14:03:24.588217Z"
    },
    "scrolled": true
   },
   "outputs": [
    {
     "data": {
      "text/html": [
       "<div>\n",
       "<style>\n",
       "    .dataframe thead tr:only-child th {\n",
       "        text-align: right;\n",
       "    }\n",
       "\n",
       "    .dataframe thead th {\n",
       "        text-align: left;\n",
       "    }\n",
       "\n",
       "    .dataframe tbody tr th {\n",
       "        vertical-align: top;\n",
       "    }\n",
       "</style>\n",
       "<table border=\"1\" class=\"dataframe\">\n",
       "  <thead>\n",
       "    <tr style=\"text-align: right;\">\n",
       "      <th></th>\n",
       "      <th>chromosome</th>\n",
       "      <th>start</th>\n",
       "      <th>end</th>\n",
       "      <th>gene</th>\n",
       "      <th>score</th>\n",
       "      <th>strand</th>\n",
       "    </tr>\n",
       "  </thead>\n",
       "  <tbody>\n",
       "    <tr>\n",
       "      <th>6</th>\n",
       "      <td>chr3</td>\n",
       "      <td>86481942</td>\n",
       "      <td>86496996</td>\n",
       "      <td>ENST00000460586.1</td>\n",
       "      <td>0</td>\n",
       "      <td>+</td>\n",
       "    </tr>\n",
       "    <tr>\n",
       "      <th>8</th>\n",
       "      <td>chr3</td>\n",
       "      <td>61801712</td>\n",
       "      <td>61803634</td>\n",
       "      <td>ENST00000465586.1</td>\n",
       "      <td>0</td>\n",
       "      <td>+</td>\n",
       "    </tr>\n",
       "    <tr>\n",
       "      <th>9</th>\n",
       "      <td>chr3</td>\n",
       "      <td>87881990</td>\n",
       "      <td>87883995</td>\n",
       "      <td>ENST00000466786.1</td>\n",
       "      <td>0</td>\n",
       "      <td>+</td>\n",
       "    </tr>\n",
       "    <tr>\n",
       "      <th>10</th>\n",
       "      <td>chr3</td>\n",
       "      <td>91488742</td>\n",
       "      <td>91876543</td>\n",
       "      <td>ENST00000460876.1</td>\n",
       "      <td>0</td>\n",
       "      <td>+</td>\n",
       "    </tr>\n",
       "    <tr>\n",
       "      <th>11</th>\n",
       "      <td>chr3</td>\n",
       "      <td>94876501</td>\n",
       "      <td>94888501</td>\n",
       "      <td>ENST00000460599.2</td>\n",
       "      <td>0</td>\n",
       "      <td>+</td>\n",
       "    </tr>\n",
       "  </tbody>\n",
       "</table>\n",
       "</div>"
      ],
      "text/plain": [
       "   chromosome     start       end               gene  score strand\n",
       "6        chr3  86481942  86496996  ENST00000460586.1      0      +\n",
       "8        chr3  61801712  61803634  ENST00000465586.1      0      +\n",
       "9        chr3  87881990  87883995  ENST00000466786.1      0      +\n",
       "10       chr3  91488742  91876543  ENST00000460876.1      0      +\n",
       "11       chr3  94876501  94888501  ENST00000460599.2      0      +"
      ]
     },
     "execution_count": 45,
     "metadata": {},
     "output_type": "execute_result"
    }
   ],
   "source": [
    " df[df['chromosome'].isin(['chr2','chr3'])]"
   ]
  },
  {
   "cell_type": "markdown",
   "metadata": {},
   "source": [
    "# Joining dataframes"
   ]
  },
  {
   "cell_type": "code",
   "execution_count": 51,
   "metadata": {
    "ExecuteTime": {
     "end_time": "2018-06-26T14:08:13.716917Z",
     "start_time": "2018-06-26T14:08:13.692717Z"
    }
   },
   "outputs": [
    {
     "name": "stdout",
     "output_type": "stream",
     "text": [
      "  chromosome      start        end               gene  score strand\n",
      "0       chr1  230125030  230174106  ENST00000454058.2      0      +\n",
      "1       chr1   29913143   29915337  ENST00000623731.1      0      +\n",
      "2       chr1   61801712   61803634  ENST00000624542.1      0      +\n",
      "   chromosome     start       end               gene  score strand\n",
      "7        chr1  53947623  53974950  ENST00000558866.4      0      +\n",
      "8        chr3  61801712  61803634  ENST00000465586.1      0      +\n",
      "9        chr3  87881990  87883995  ENST00000466786.1      0      +\n",
      "10       chr3  91488742  91876543  ENST00000460876.1      0      +\n",
      "11       chr3  94876501  94888501  ENST00000460599.2      0      +\n"
     ]
    }
   ],
   "source": [
    "df1 = df[0:3]\n",
    "df2 = df[7:]\n",
    "print(df1)\n",
    "print(df2)\n",
    "\n",
    "dfs = [df2, df1]\n",
    "\n",
    "df3 = pd.concat(dfs) "
   ]
  },
  {
   "cell_type": "code",
   "execution_count": 52,
   "metadata": {
    "ExecuteTime": {
     "end_time": "2018-06-26T14:08:14.158415Z",
     "start_time": "2018-06-26T14:08:14.142673Z"
    }
   },
   "outputs": [
    {
     "data": {
      "text/html": [
       "<div>\n",
       "<style>\n",
       "    .dataframe thead tr:only-child th {\n",
       "        text-align: right;\n",
       "    }\n",
       "\n",
       "    .dataframe thead th {\n",
       "        text-align: left;\n",
       "    }\n",
       "\n",
       "    .dataframe tbody tr th {\n",
       "        vertical-align: top;\n",
       "    }\n",
       "</style>\n",
       "<table border=\"1\" class=\"dataframe\">\n",
       "  <thead>\n",
       "    <tr style=\"text-align: right;\">\n",
       "      <th></th>\n",
       "      <th>chromosome</th>\n",
       "      <th>start</th>\n",
       "      <th>end</th>\n",
       "      <th>gene</th>\n",
       "      <th>score</th>\n",
       "      <th>strand</th>\n",
       "    </tr>\n",
       "  </thead>\n",
       "  <tbody>\n",
       "    <tr>\n",
       "      <th>7</th>\n",
       "      <td>chr1</td>\n",
       "      <td>53947623</td>\n",
       "      <td>53974950</td>\n",
       "      <td>ENST00000558866.4</td>\n",
       "      <td>0</td>\n",
       "      <td>+</td>\n",
       "    </tr>\n",
       "    <tr>\n",
       "      <th>8</th>\n",
       "      <td>chr3</td>\n",
       "      <td>61801712</td>\n",
       "      <td>61803634</td>\n",
       "      <td>ENST00000465586.1</td>\n",
       "      <td>0</td>\n",
       "      <td>+</td>\n",
       "    </tr>\n",
       "    <tr>\n",
       "      <th>9</th>\n",
       "      <td>chr3</td>\n",
       "      <td>87881990</td>\n",
       "      <td>87883995</td>\n",
       "      <td>ENST00000466786.1</td>\n",
       "      <td>0</td>\n",
       "      <td>+</td>\n",
       "    </tr>\n",
       "    <tr>\n",
       "      <th>10</th>\n",
       "      <td>chr3</td>\n",
       "      <td>91488742</td>\n",
       "      <td>91876543</td>\n",
       "      <td>ENST00000460876.1</td>\n",
       "      <td>0</td>\n",
       "      <td>+</td>\n",
       "    </tr>\n",
       "    <tr>\n",
       "      <th>11</th>\n",
       "      <td>chr3</td>\n",
       "      <td>94876501</td>\n",
       "      <td>94888501</td>\n",
       "      <td>ENST00000460599.2</td>\n",
       "      <td>0</td>\n",
       "      <td>+</td>\n",
       "    </tr>\n",
       "    <tr>\n",
       "      <th>0</th>\n",
       "      <td>chr1</td>\n",
       "      <td>230125030</td>\n",
       "      <td>230174106</td>\n",
       "      <td>ENST00000454058.2</td>\n",
       "      <td>0</td>\n",
       "      <td>+</td>\n",
       "    </tr>\n",
       "    <tr>\n",
       "      <th>1</th>\n",
       "      <td>chr1</td>\n",
       "      <td>29913143</td>\n",
       "      <td>29915337</td>\n",
       "      <td>ENST00000623731.1</td>\n",
       "      <td>0</td>\n",
       "      <td>+</td>\n",
       "    </tr>\n",
       "    <tr>\n",
       "      <th>2</th>\n",
       "      <td>chr1</td>\n",
       "      <td>61801712</td>\n",
       "      <td>61803634</td>\n",
       "      <td>ENST00000624542.1</td>\n",
       "      <td>0</td>\n",
       "      <td>+</td>\n",
       "    </tr>\n",
       "  </tbody>\n",
       "</table>\n",
       "</div>"
      ],
      "text/plain": [
       "   chromosome      start        end               gene  score strand\n",
       "7        chr1   53947623   53974950  ENST00000558866.4      0      +\n",
       "8        chr3   61801712   61803634  ENST00000465586.1      0      +\n",
       "9        chr3   87881990   87883995  ENST00000466786.1      0      +\n",
       "10       chr3   91488742   91876543  ENST00000460876.1      0      +\n",
       "11       chr3   94876501   94888501  ENST00000460599.2      0      +\n",
       "0        chr1  230125030  230174106  ENST00000454058.2      0      +\n",
       "1        chr1   29913143   29915337  ENST00000623731.1      0      +\n",
       "2        chr1   61801712   61803634  ENST00000624542.1      0      +"
      ]
     },
     "execution_count": 52,
     "metadata": {},
     "output_type": "execute_result"
    }
   ],
   "source": [
    "df3"
   ]
  },
  {
   "cell_type": "code",
   "execution_count": 58,
   "metadata": {
    "ExecuteTime": {
     "end_time": "2018-06-26T14:13:06.862363Z",
     "start_time": "2018-06-26T14:13:06.845381Z"
    }
   },
   "outputs": [
    {
     "name": "stdout",
     "output_type": "stream",
     "text": [
      "  chromosome  start\n",
      "0       chr1      0\n",
      "1       chr3    304\n",
      "  chromosome  end\n",
      "0       chr1   10\n",
      "1       chr3  400\n"
     ]
    }
   ],
   "source": [
    "left = pd.DataFrame({'chromosome': ['chr1', 'chr3'], 'start': [0, 304]})\n",
    "right = pd.DataFrame({'chromosome': ['chr1', 'chr3'], 'end': [10, 400]})\n",
    "\n",
    "print(left)\n",
    "print(right)"
   ]
  },
  {
   "cell_type": "code",
   "execution_count": 59,
   "metadata": {
    "ExecuteTime": {
     "end_time": "2018-06-26T14:13:07.419143Z",
     "start_time": "2018-06-26T14:13:07.392846Z"
    }
   },
   "outputs": [
    {
     "data": {
      "text/html": [
       "<div>\n",
       "<style>\n",
       "    .dataframe thead tr:only-child th {\n",
       "        text-align: right;\n",
       "    }\n",
       "\n",
       "    .dataframe thead th {\n",
       "        text-align: left;\n",
       "    }\n",
       "\n",
       "    .dataframe tbody tr th {\n",
       "        vertical-align: top;\n",
       "    }\n",
       "</style>\n",
       "<table border=\"1\" class=\"dataframe\">\n",
       "  <thead>\n",
       "    <tr style=\"text-align: right;\">\n",
       "      <th></th>\n",
       "      <th>chromosome</th>\n",
       "      <th>start</th>\n",
       "      <th>end</th>\n",
       "    </tr>\n",
       "  </thead>\n",
       "  <tbody>\n",
       "    <tr>\n",
       "      <th>0</th>\n",
       "      <td>chr1</td>\n",
       "      <td>0</td>\n",
       "      <td>10</td>\n",
       "    </tr>\n",
       "    <tr>\n",
       "      <th>1</th>\n",
       "      <td>chr3</td>\n",
       "      <td>304</td>\n",
       "      <td>400</td>\n",
       "    </tr>\n",
       "  </tbody>\n",
       "</table>\n",
       "</div>"
      ],
      "text/plain": [
       "  chromosome  start  end\n",
       "0       chr1      0   10\n",
       "1       chr3    304  400"
      ]
     },
     "execution_count": 59,
     "metadata": {},
     "output_type": "execute_result"
    }
   ],
   "source": [
    "pd.merge(left, right, on='chromosome')"
   ]
  },
  {
   "cell_type": "markdown",
   "metadata": {},
   "source": [
    "# Applying functions to columns"
   ]
  },
  {
   "cell_type": "markdown",
   "metadata": {},
   "source": [
    "One on the best feature of pandas is that you don't have to loop through each row to manipulate the values in each cell. Instead, use built in functions or use the ```apply()``` function to apply your own function!"
   ]
  },
  {
   "cell_type": "code",
   "execution_count": 60,
   "metadata": {
    "ExecuteTime": {
     "end_time": "2018-06-26T14:15:01.738264Z",
     "start_time": "2018-06-26T14:15:01.730114Z"
    },
    "collapsed": true
   },
   "outputs": [],
   "source": [
    "def square(x):\n",
    "    return x**2"
   ]
  },
  {
   "cell_type": "code",
   "execution_count": 62,
   "metadata": {
    "ExecuteTime": {
     "end_time": "2018-06-26T14:15:37.629163Z",
     "start_time": "2018-06-26T14:15:37.621081Z"
    }
   },
   "outputs": [
    {
     "data": {
      "text/plain": [
       "0     230125030\n",
       "1      29913143\n",
       "2      61801712\n",
       "3      23567063\n",
       "4      82587312\n",
       "5     127401725\n",
       "6      86481942\n",
       "7      53947623\n",
       "8      61801712\n",
       "9      87881990\n",
       "10     91488742\n",
       "11     94876501\n",
       "Name: start, dtype: int64"
      ]
     },
     "execution_count": 62,
     "metadata": {},
     "output_type": "execute_result"
    }
   ],
   "source": [
    "df['start']"
   ]
  },
  {
   "cell_type": "code",
   "execution_count": 61,
   "metadata": {
    "ExecuteTime": {
     "end_time": "2018-06-26T14:15:26.928158Z",
     "start_time": "2018-06-26T14:15:26.919886Z"
    },
    "scrolled": false
   },
   "outputs": [
    {
     "data": {
      "text/plain": [
       "0     52957529432500900\n",
       "1       894796124138449\n",
       "2      3819451606130944\n",
       "3       555406458445969\n",
       "4      6820664103385344\n",
       "5     16231199532975625\n",
       "6      7479126292091364\n",
       "7      2910346027350129\n",
       "8      3819451606130944\n",
       "9      7723244166360100\n",
       "10     8370189912742564\n",
       "11     9001550442003001\n",
       "Name: start, dtype: int64"
      ]
     },
     "execution_count": 61,
     "metadata": {},
     "output_type": "execute_result"
    }
   ],
   "source": [
    "df['start'].apply(square)"
   ]
  },
  {
   "cell_type": "code",
   "execution_count": 66,
   "metadata": {
    "ExecuteTime": {
     "end_time": "2018-06-26T14:25:10.065986Z",
     "start_time": "2018-06-26T14:25:10.050145Z"
    }
   },
   "outputs": [
    {
     "data": {
      "text/html": [
       "<div>\n",
       "<style>\n",
       "    .dataframe thead tr:only-child th {\n",
       "        text-align: right;\n",
       "    }\n",
       "\n",
       "    .dataframe thead th {\n",
       "        text-align: left;\n",
       "    }\n",
       "\n",
       "    .dataframe tbody tr th {\n",
       "        vertical-align: top;\n",
       "    }\n",
       "</style>\n",
       "<table border=\"1\" class=\"dataframe\">\n",
       "  <thead>\n",
       "    <tr style=\"text-align: right;\">\n",
       "      <th></th>\n",
       "      <th>chromosome</th>\n",
       "      <th>start</th>\n",
       "      <th>end</th>\n",
       "      <th>gene</th>\n",
       "      <th>score</th>\n",
       "      <th>strand</th>\n",
       "    </tr>\n",
       "  </thead>\n",
       "  <tbody>\n",
       "    <tr>\n",
       "      <th>0</th>\n",
       "      <td>chr1</td>\n",
       "      <td>230125030</td>\n",
       "      <td>230174106</td>\n",
       "      <td>ENST00000454058.2</td>\n",
       "      <td>0</td>\n",
       "      <td>+</td>\n",
       "    </tr>\n",
       "    <tr>\n",
       "      <th>1</th>\n",
       "      <td>chr1</td>\n",
       "      <td>29913143</td>\n",
       "      <td>29915337</td>\n",
       "      <td>ENST00000623731.1</td>\n",
       "      <td>0</td>\n",
       "      <td>+</td>\n",
       "    </tr>\n",
       "    <tr>\n",
       "      <th>2</th>\n",
       "      <td>chr1</td>\n",
       "      <td>61801712</td>\n",
       "      <td>61803634</td>\n",
       "      <td>ENST00000624542.1</td>\n",
       "      <td>0</td>\n",
       "      <td>+</td>\n",
       "    </tr>\n",
       "    <tr>\n",
       "      <th>3</th>\n",
       "      <td>chr1</td>\n",
       "      <td>23567063</td>\n",
       "      <td>23573122</td>\n",
       "      <td>ENST00000454863.3</td>\n",
       "      <td>0</td>\n",
       "      <td>-</td>\n",
       "    </tr>\n",
       "    <tr>\n",
       "      <th>4</th>\n",
       "      <td>chr1</td>\n",
       "      <td>82587312</td>\n",
       "      <td>82588411</td>\n",
       "      <td>ENST00000575085.1</td>\n",
       "      <td>0</td>\n",
       "      <td>+</td>\n",
       "    </tr>\n",
       "  </tbody>\n",
       "</table>\n",
       "</div>"
      ],
      "text/plain": [
       "  chromosome      start        end               gene  score strand\n",
       "0       chr1  230125030  230174106  ENST00000454058.2      0      +\n",
       "1       chr1   29913143   29915337  ENST00000623731.1      0      +\n",
       "2       chr1   61801712   61803634  ENST00000624542.1      0      +\n",
       "3       chr1   23567063   23573122  ENST00000454863.3      0      -\n",
       "4       chr1   82587312   82588411  ENST00000575085.1      0      +"
      ]
     },
     "execution_count": 66,
     "metadata": {},
     "output_type": "execute_result"
    }
   ],
   "source": [
    "df.head()"
   ]
  },
  {
   "cell_type": "markdown",
   "metadata": {},
   "source": [
    "To save any manipulation to a DataFrame column, you must reassign it."
   ]
  },
  {
   "cell_type": "code",
   "execution_count": 70,
   "metadata": {
    "ExecuteTime": {
     "end_time": "2018-06-26T14:26:51.652857Z",
     "start_time": "2018-06-26T14:26:51.626481Z"
    }
   },
   "outputs": [
    {
     "data": {
      "text/html": [
       "<div>\n",
       "<style>\n",
       "    .dataframe thead tr:only-child th {\n",
       "        text-align: right;\n",
       "    }\n",
       "\n",
       "    .dataframe thead th {\n",
       "        text-align: left;\n",
       "    }\n",
       "\n",
       "    .dataframe tbody tr th {\n",
       "        vertical-align: top;\n",
       "    }\n",
       "</style>\n",
       "<table border=\"1\" class=\"dataframe\">\n",
       "  <thead>\n",
       "    <tr style=\"text-align: right;\">\n",
       "      <th></th>\n",
       "      <th>chromosome</th>\n",
       "      <th>start</th>\n",
       "      <th>end</th>\n",
       "      <th>gene</th>\n",
       "      <th>score</th>\n",
       "      <th>strand</th>\n",
       "    </tr>\n",
       "  </thead>\n",
       "  <tbody>\n",
       "    <tr>\n",
       "      <th>0</th>\n",
       "      <td>chr1</td>\n",
       "      <td>52957529432500900</td>\n",
       "      <td>230174106</td>\n",
       "      <td>ENST00000454058.2</td>\n",
       "      <td>0</td>\n",
       "      <td>+</td>\n",
       "    </tr>\n",
       "    <tr>\n",
       "      <th>1</th>\n",
       "      <td>chr1</td>\n",
       "      <td>894796124138449</td>\n",
       "      <td>29915337</td>\n",
       "      <td>ENST00000623731.1</td>\n",
       "      <td>0</td>\n",
       "      <td>+</td>\n",
       "    </tr>\n",
       "    <tr>\n",
       "      <th>2</th>\n",
       "      <td>chr1</td>\n",
       "      <td>3819451606130944</td>\n",
       "      <td>61803634</td>\n",
       "      <td>ENST00000624542.1</td>\n",
       "      <td>0</td>\n",
       "      <td>+</td>\n",
       "    </tr>\n",
       "    <tr>\n",
       "      <th>3</th>\n",
       "      <td>chr1</td>\n",
       "      <td>555406458445969</td>\n",
       "      <td>23573122</td>\n",
       "      <td>ENST00000454863.3</td>\n",
       "      <td>0</td>\n",
       "      <td>-</td>\n",
       "    </tr>\n",
       "    <tr>\n",
       "      <th>4</th>\n",
       "      <td>chr1</td>\n",
       "      <td>6820664103385344</td>\n",
       "      <td>82588411</td>\n",
       "      <td>ENST00000575085.1</td>\n",
       "      <td>0</td>\n",
       "      <td>+</td>\n",
       "    </tr>\n",
       "    <tr>\n",
       "      <th>5</th>\n",
       "      <td>chr1</td>\n",
       "      <td>16231199532975625</td>\n",
       "      <td>127470569</td>\n",
       "      <td>ENST00000509671.1</td>\n",
       "      <td>0</td>\n",
       "      <td>+</td>\n",
       "    </tr>\n",
       "    <tr>\n",
       "      <th>6</th>\n",
       "      <td>chr3</td>\n",
       "      <td>7479126292091364</td>\n",
       "      <td>86496996</td>\n",
       "      <td>ENST00000460586.1</td>\n",
       "      <td>0</td>\n",
       "      <td>+</td>\n",
       "    </tr>\n",
       "    <tr>\n",
       "      <th>7</th>\n",
       "      <td>chr1</td>\n",
       "      <td>2910346027350129</td>\n",
       "      <td>53974950</td>\n",
       "      <td>ENST00000558866.4</td>\n",
       "      <td>0</td>\n",
       "      <td>+</td>\n",
       "    </tr>\n",
       "    <tr>\n",
       "      <th>8</th>\n",
       "      <td>chr3</td>\n",
       "      <td>3819451606130944</td>\n",
       "      <td>61803634</td>\n",
       "      <td>ENST00000465586.1</td>\n",
       "      <td>0</td>\n",
       "      <td>+</td>\n",
       "    </tr>\n",
       "    <tr>\n",
       "      <th>9</th>\n",
       "      <td>chr3</td>\n",
       "      <td>7723244166360100</td>\n",
       "      <td>87883995</td>\n",
       "      <td>ENST00000466786.1</td>\n",
       "      <td>0</td>\n",
       "      <td>+</td>\n",
       "    </tr>\n",
       "    <tr>\n",
       "      <th>10</th>\n",
       "      <td>chr3</td>\n",
       "      <td>8370189912742564</td>\n",
       "      <td>91876543</td>\n",
       "      <td>ENST00000460876.1</td>\n",
       "      <td>0</td>\n",
       "      <td>+</td>\n",
       "    </tr>\n",
       "    <tr>\n",
       "      <th>11</th>\n",
       "      <td>chr3</td>\n",
       "      <td>9001550442003001</td>\n",
       "      <td>94888501</td>\n",
       "      <td>ENST00000460599.2</td>\n",
       "      <td>0</td>\n",
       "      <td>+</td>\n",
       "    </tr>\n",
       "  </tbody>\n",
       "</table>\n",
       "</div>"
      ],
      "text/plain": [
       "   chromosome              start        end               gene  score strand\n",
       "0        chr1  52957529432500900  230174106  ENST00000454058.2      0      +\n",
       "1        chr1    894796124138449   29915337  ENST00000623731.1      0      +\n",
       "2        chr1   3819451606130944   61803634  ENST00000624542.1      0      +\n",
       "3        chr1    555406458445969   23573122  ENST00000454863.3      0      -\n",
       "4        chr1   6820664103385344   82588411  ENST00000575085.1      0      +\n",
       "5        chr1  16231199532975625  127470569  ENST00000509671.1      0      +\n",
       "6        chr3   7479126292091364   86496996  ENST00000460586.1      0      +\n",
       "7        chr1   2910346027350129   53974950  ENST00000558866.4      0      +\n",
       "8        chr3   3819451606130944   61803634  ENST00000465586.1      0      +\n",
       "9        chr3   7723244166360100   87883995  ENST00000466786.1      0      +\n",
       "10       chr3   8370189912742564   91876543  ENST00000460876.1      0      +\n",
       "11       chr3   9001550442003001   94888501  ENST00000460599.2      0      +"
      ]
     },
     "execution_count": 70,
     "metadata": {},
     "output_type": "execute_result"
    }
   ],
   "source": [
    "df['start'] = df['start'].apply(square)\n",
    "df"
   ]
  },
  {
   "cell_type": "markdown",
   "metadata": {},
   "source": [
    "# Level 3 with Pandas"
   ]
  },
  {
   "cell_type": "code",
   "execution_count": 72,
   "metadata": {
    "ExecuteTime": {
     "end_time": "2018-06-26T14:27:53.717215Z",
     "start_time": "2018-06-26T14:27:53.696903Z"
    }
   },
   "outputs": [
    {
     "data": {
      "text/html": [
       "<div>\n",
       "<style>\n",
       "    .dataframe thead tr:only-child th {\n",
       "        text-align: right;\n",
       "    }\n",
       "\n",
       "    .dataframe thead th {\n",
       "        text-align: left;\n",
       "    }\n",
       "\n",
       "    .dataframe tbody tr th {\n",
       "        vertical-align: top;\n",
       "    }\n",
       "</style>\n",
       "<table border=\"1\" class=\"dataframe\">\n",
       "  <thead>\n",
       "    <tr style=\"text-align: right;\">\n",
       "      <th></th>\n",
       "      <th>0</th>\n",
       "      <th>1</th>\n",
       "      <th>2</th>\n",
       "      <th>3</th>\n",
       "      <th>4</th>\n",
       "      <th>5</th>\n",
       "    </tr>\n",
       "  </thead>\n",
       "  <tbody>\n",
       "    <tr>\n",
       "      <th>0</th>\n",
       "      <td>chr1</td>\n",
       "      <td>230125030</td>\n",
       "      <td>230174106</td>\n",
       "      <td>ENST00000454058.2</td>\n",
       "      <td>0</td>\n",
       "      <td>+</td>\n",
       "    </tr>\n",
       "    <tr>\n",
       "      <th>1</th>\n",
       "      <td>chr1</td>\n",
       "      <td>29913143</td>\n",
       "      <td>29915337</td>\n",
       "      <td>ENST00000623731.1</td>\n",
       "      <td>0</td>\n",
       "      <td>+</td>\n",
       "    </tr>\n",
       "    <tr>\n",
       "      <th>2</th>\n",
       "      <td>chr1</td>\n",
       "      <td>61801712</td>\n",
       "      <td>61803634</td>\n",
       "      <td>ENST00000624542.1</td>\n",
       "      <td>0</td>\n",
       "      <td>+</td>\n",
       "    </tr>\n",
       "    <tr>\n",
       "      <th>3</th>\n",
       "      <td>chr1</td>\n",
       "      <td>23567063</td>\n",
       "      <td>23573122</td>\n",
       "      <td>ENST00000454863.3</td>\n",
       "      <td>0</td>\n",
       "      <td>-</td>\n",
       "    </tr>\n",
       "    <tr>\n",
       "      <th>4</th>\n",
       "      <td>chr1</td>\n",
       "      <td>82587312</td>\n",
       "      <td>82588411</td>\n",
       "      <td>ENST00000575085.1</td>\n",
       "      <td>0</td>\n",
       "      <td>+</td>\n",
       "    </tr>\n",
       "  </tbody>\n",
       "</table>\n",
       "</div>"
      ],
      "text/plain": [
       "      0          1          2                  3  4  5\n",
       "0  chr1  230125030  230174106  ENST00000454058.2  0  +\n",
       "1  chr1   29913143   29915337  ENST00000623731.1  0  +\n",
       "2  chr1   61801712   61803634  ENST00000624542.1  0  +\n",
       "3  chr1   23567063   23573122  ENST00000454863.3  0  -\n",
       "4  chr1   82587312   82588411  ENST00000575085.1  0  +"
      ]
     },
     "execution_count": 72,
     "metadata": {},
     "output_type": "execute_result"
    }
   ],
   "source": [
    "bed = 'C:/Users/sksuzuki/Documents/EXCISION/level_3/ENCFF239FSU.bed'\n",
    "\n",
    "df = pd.read_csv(bed, sep='\\t', header=None)\n",
    "df.head()"
   ]
  },
  {
   "cell_type": "code",
   "execution_count": 74,
   "metadata": {
    "ExecuteTime": {
     "end_time": "2018-06-26T14:28:01.200112Z",
     "start_time": "2018-06-26T14:28:01.178098Z"
    }
   },
   "outputs": [
    {
     "data": {
      "text/html": [
       "<div>\n",
       "<style>\n",
       "    .dataframe thead tr:only-child th {\n",
       "        text-align: right;\n",
       "    }\n",
       "\n",
       "    .dataframe thead th {\n",
       "        text-align: left;\n",
       "    }\n",
       "\n",
       "    .dataframe tbody tr th {\n",
       "        vertical-align: top;\n",
       "    }\n",
       "</style>\n",
       "<table border=\"1\" class=\"dataframe\">\n",
       "  <thead>\n",
       "    <tr style=\"text-align: right;\">\n",
       "      <th></th>\n",
       "      <th>0</th>\n",
       "      <th>1</th>\n",
       "      <th>2</th>\n",
       "      <th>3</th>\n",
       "      <th>4</th>\n",
       "      <th>5</th>\n",
       "    </tr>\n",
       "  </thead>\n",
       "  <tbody>\n",
       "    <tr>\n",
       "      <th>0</th>\n",
       "      <td>chr1</td>\n",
       "      <td>230125030</td>\n",
       "      <td>230174106</td>\n",
       "      <td>ENST00000454058.2</td>\n",
       "      <td>0</td>\n",
       "      <td>+</td>\n",
       "    </tr>\n",
       "    <tr>\n",
       "      <th>1</th>\n",
       "      <td>chr1</td>\n",
       "      <td>29913143</td>\n",
       "      <td>29915337</td>\n",
       "      <td>ENST00000623731.1</td>\n",
       "      <td>0</td>\n",
       "      <td>+</td>\n",
       "    </tr>\n",
       "    <tr>\n",
       "      <th>2</th>\n",
       "      <td>chr1</td>\n",
       "      <td>61801712</td>\n",
       "      <td>61803634</td>\n",
       "      <td>ENST00000624542.1</td>\n",
       "      <td>0</td>\n",
       "      <td>+</td>\n",
       "    </tr>\n",
       "    <tr>\n",
       "      <th>4</th>\n",
       "      <td>chr1</td>\n",
       "      <td>82587312</td>\n",
       "      <td>82588411</td>\n",
       "      <td>ENST00000575085.1</td>\n",
       "      <td>0</td>\n",
       "      <td>+</td>\n",
       "    </tr>\n",
       "    <tr>\n",
       "      <th>5</th>\n",
       "      <td>chr1</td>\n",
       "      <td>127401725</td>\n",
       "      <td>127470569</td>\n",
       "      <td>ENST00000509671.1</td>\n",
       "      <td>0</td>\n",
       "      <td>+</td>\n",
       "    </tr>\n",
       "    <tr>\n",
       "      <th>6</th>\n",
       "      <td>chr3</td>\n",
       "      <td>86481942</td>\n",
       "      <td>86496996</td>\n",
       "      <td>ENST00000460586.1</td>\n",
       "      <td>0</td>\n",
       "      <td>+</td>\n",
       "    </tr>\n",
       "    <tr>\n",
       "      <th>7</th>\n",
       "      <td>chr1</td>\n",
       "      <td>53947623</td>\n",
       "      <td>53974950</td>\n",
       "      <td>ENST00000558866.4</td>\n",
       "      <td>0</td>\n",
       "      <td>+</td>\n",
       "    </tr>\n",
       "    <tr>\n",
       "      <th>8</th>\n",
       "      <td>chr3</td>\n",
       "      <td>61801712</td>\n",
       "      <td>61803634</td>\n",
       "      <td>ENST00000465586.1</td>\n",
       "      <td>0</td>\n",
       "      <td>+</td>\n",
       "    </tr>\n",
       "    <tr>\n",
       "      <th>9</th>\n",
       "      <td>chr3</td>\n",
       "      <td>87881990</td>\n",
       "      <td>87883995</td>\n",
       "      <td>ENST00000466786.1</td>\n",
       "      <td>0</td>\n",
       "      <td>+</td>\n",
       "    </tr>\n",
       "    <tr>\n",
       "      <th>10</th>\n",
       "      <td>chr3</td>\n",
       "      <td>91488742</td>\n",
       "      <td>91876543</td>\n",
       "      <td>ENST00000460876.1</td>\n",
       "      <td>0</td>\n",
       "      <td>+</td>\n",
       "    </tr>\n",
       "    <tr>\n",
       "      <th>11</th>\n",
       "      <td>chr3</td>\n",
       "      <td>94876501</td>\n",
       "      <td>94888501</td>\n",
       "      <td>ENST00000460599.2</td>\n",
       "      <td>0</td>\n",
       "      <td>+</td>\n",
       "    </tr>\n",
       "  </tbody>\n",
       "</table>\n",
       "</div>"
      ],
      "text/plain": [
       "       0          1          2                  3  4  5\n",
       "0   chr1  230125030  230174106  ENST00000454058.2  0  +\n",
       "1   chr1   29913143   29915337  ENST00000623731.1  0  +\n",
       "2   chr1   61801712   61803634  ENST00000624542.1  0  +\n",
       "4   chr1   82587312   82588411  ENST00000575085.1  0  +\n",
       "5   chr1  127401725  127470569  ENST00000509671.1  0  +\n",
       "6   chr3   86481942   86496996  ENST00000460586.1  0  +\n",
       "7   chr1   53947623   53974950  ENST00000558866.4  0  +\n",
       "8   chr3   61801712   61803634  ENST00000465586.1  0  +\n",
       "9   chr3   87881990   87883995  ENST00000466786.1  0  +\n",
       "10  chr3   91488742   91876543  ENST00000460876.1  0  +\n",
       "11  chr3   94876501   94888501  ENST00000460599.2  0  +"
      ]
     },
     "execution_count": 74,
     "metadata": {},
     "output_type": "execute_result"
    }
   ],
   "source": [
    "# Filter for positive strand\n",
    "df_p = df[df[5] == '+'].copy()\n",
    "df_p.head()"
   ]
  },
  {
   "cell_type": "code",
   "execution_count": 76,
   "metadata": {
    "ExecuteTime": {
     "end_time": "2018-06-26T14:28:34.926937Z",
     "start_time": "2018-06-26T14:28:34.907004Z"
    }
   },
   "outputs": [
    {
     "data": {
      "text/html": [
       "<div>\n",
       "<style>\n",
       "    .dataframe thead tr:only-child th {\n",
       "        text-align: right;\n",
       "    }\n",
       "\n",
       "    .dataframe thead th {\n",
       "        text-align: left;\n",
       "    }\n",
       "\n",
       "    .dataframe tbody tr th {\n",
       "        vertical-align: top;\n",
       "    }\n",
       "</style>\n",
       "<table border=\"1\" class=\"dataframe\">\n",
       "  <thead>\n",
       "    <tr style=\"text-align: right;\">\n",
       "      <th></th>\n",
       "      <th>0</th>\n",
       "      <th>1</th>\n",
       "      <th>2</th>\n",
       "      <th>3</th>\n",
       "      <th>4</th>\n",
       "      <th>5</th>\n",
       "      <th>6</th>\n",
       "    </tr>\n",
       "  </thead>\n",
       "  <tbody>\n",
       "    <tr>\n",
       "      <th>0</th>\n",
       "      <td>chr1</td>\n",
       "      <td>230125030</td>\n",
       "      <td>230174106</td>\n",
       "      <td>ENST00000454058.2</td>\n",
       "      <td>0</td>\n",
       "      <td>+</td>\n",
       "      <td>49076.0</td>\n",
       "    </tr>\n",
       "    <tr>\n",
       "      <th>1</th>\n",
       "      <td>chr1</td>\n",
       "      <td>29913143</td>\n",
       "      <td>29915337</td>\n",
       "      <td>ENST00000623731.1</td>\n",
       "      <td>0</td>\n",
       "      <td>+</td>\n",
       "      <td>2194.0</td>\n",
       "    </tr>\n",
       "    <tr>\n",
       "      <th>2</th>\n",
       "      <td>chr1</td>\n",
       "      <td>61801712</td>\n",
       "      <td>61803634</td>\n",
       "      <td>ENST00000624542.1</td>\n",
       "      <td>0</td>\n",
       "      <td>+</td>\n",
       "      <td>1922.0</td>\n",
       "    </tr>\n",
       "    <tr>\n",
       "      <th>4</th>\n",
       "      <td>chr1</td>\n",
       "      <td>82587312</td>\n",
       "      <td>82588411</td>\n",
       "      <td>ENST00000575085.1</td>\n",
       "      <td>0</td>\n",
       "      <td>+</td>\n",
       "      <td>1099.0</td>\n",
       "    </tr>\n",
       "    <tr>\n",
       "      <th>5</th>\n",
       "      <td>chr1</td>\n",
       "      <td>127401725</td>\n",
       "      <td>127470569</td>\n",
       "      <td>ENST00000509671.1</td>\n",
       "      <td>0</td>\n",
       "      <td>+</td>\n",
       "      <td>68844.0</td>\n",
       "    </tr>\n",
       "  </tbody>\n",
       "</table>\n",
       "</div>"
      ],
      "text/plain": [
       "      0          1          2                  3  4  5        6\n",
       "0  chr1  230125030  230174106  ENST00000454058.2  0  +  49076.0\n",
       "1  chr1   29913143   29915337  ENST00000623731.1  0  +   2194.0\n",
       "2  chr1   61801712   61803634  ENST00000624542.1  0  +   1922.0\n",
       "4  chr1   82587312   82588411  ENST00000575085.1  0  +   1099.0\n",
       "5  chr1  127401725  127470569  ENST00000509671.1  0  +  68844.0"
      ]
     },
     "execution_count": 76,
     "metadata": {},
     "output_type": "execute_result"
    }
   ],
   "source": [
    "# Find gene interval\n",
    "df_p[6] = df_p[2] - df[1]\n",
    "df_p.head()"
   ]
  },
  {
   "cell_type": "code",
   "execution_count": 77,
   "metadata": {
    "ExecuteTime": {
     "end_time": "2018-06-26T14:29:15.693885Z",
     "start_time": "2018-06-26T14:29:15.685096Z"
    }
   },
   "outputs": [
    {
     "data": {
      "text/plain": [
       "array(['chr1', 'chr3'], dtype=object)"
      ]
     },
     "execution_count": 77,
     "metadata": {},
     "output_type": "execute_result"
    }
   ],
   "source": [
    "# Get each of the chromosome names\n",
    "chromo_names = df_p[0].unique()\n",
    "chromo_names"
   ]
  },
  {
   "cell_type": "code",
   "execution_count": 78,
   "metadata": {
    "ExecuteTime": {
     "end_time": "2018-06-26T14:30:37.988922Z",
     "start_time": "2018-06-26T14:30:37.954134Z"
    }
   },
   "outputs": [
    {
     "name": "stdout",
     "output_type": "stream",
     "text": [
      "[      0          1          2                  3  4  5        6\n",
      "5  chr1  127401725  127470569  ENST00000509671.1  0  +  68844.0\n",
      "0  chr1  230125030  230174106  ENST00000454058.2  0  +  49076.0\n",
      "7  chr1   53947623   53974950  ENST00000558866.4  0  +  27327.0\n",
      "1  chr1   29913143   29915337  ENST00000623731.1  0  +   2194.0\n",
      "2  chr1   61801712   61803634  ENST00000624542.1  0  +   1922.0,        0         1         2                  3  4  5         6\n",
      "10  chr3  91488742  91876543  ENST00000460876.1  0  +  387801.0\n",
      "6   chr3  86481942  86496996  ENST00000460586.1  0  +   15054.0\n",
      "11  chr3  94876501  94888501  ENST00000460599.2  0  +   12000.0\n",
      "9   chr3  87881990  87883995  ENST00000466786.1  0  +    2005.0\n",
      "8   chr3  61801712  61803634  ENST00000465586.1  0  +    1922.0]\n",
      "       0          1          2                  3  4  5         6\n",
      "5   chr1  127401725  127470569  ENST00000509671.1  0  +   68844.0\n",
      "0   chr1  230125030  230174106  ENST00000454058.2  0  +   49076.0\n",
      "7   chr1   53947623   53974950  ENST00000558866.4  0  +   27327.0\n",
      "1   chr1   29913143   29915337  ENST00000623731.1  0  +    2194.0\n",
      "2   chr1   61801712   61803634  ENST00000624542.1  0  +    1922.0\n",
      "10  chr3   91488742   91876543  ENST00000460876.1  0  +  387801.0\n",
      "6   chr3   86481942   86496996  ENST00000460586.1  0  +   15054.0\n",
      "11  chr3   94876501   94888501  ENST00000460599.2  0  +   12000.0\n",
      "9   chr3   87881990   87883995  ENST00000466786.1  0  +    2005.0\n",
      "8   chr3   61801712   61803634  ENST00000465586.1  0  +    1922.0\n"
     ]
    }
   ],
   "source": [
    "# Filter for the 5 largest for each unique chromosome name\n",
    "df_top = []\n",
    "for contig in chromo_names:\n",
    "    df_contig = df_p[df_p[0] == contig]\n",
    "    df_top.append(df_contig.nlargest(5,6))\n",
    "print(df_top)\n",
    "df_top = pd.concat(df_top)\n",
    "\n",
    "print(df_top)"
   ]
  },
  {
   "cell_type": "code",
   "execution_count": 79,
   "metadata": {
    "ExecuteTime": {
     "end_time": "2018-06-26T14:31:38.365094Z",
     "start_time": "2018-06-26T14:31:38.356158Z"
    }
   },
   "outputs": [
    {
     "data": {
      "text/plain": [
       "59"
      ]
     },
     "execution_count": 79,
     "metadata": {},
     "output_type": "execute_result"
    }
   ],
   "source": [
    "# Get the sum of the index\n",
    "sum(df_top.index)"
   ]
  },
  {
   "cell_type": "markdown",
   "metadata": {},
   "source": [
    "# Further reading and practice\n",
    "\n",
    "- 10 minute quick introduction: https://pandas.pydata.org/pandas-docs/stable/10min.html\n",
    "- Merge, Joining and Concatenating dataframes: https://pandas.pydata.org/pandas-docs/stable/merging.html\n",
    "- More on indexing: https://pandas.pydata.org/pandas-docs/stable/indexing.html"
   ]
  },
  {
   "cell_type": "code",
   "execution_count": null,
   "metadata": {
    "collapsed": true
   },
   "outputs": [],
   "source": []
  }
 ],
 "metadata": {
  "hide_input": false,
  "kernelspec": {
   "display_name": "Python 3",
   "language": "python",
   "name": "python3"
  },
  "language_info": {
   "codemirror_mode": {
    "name": "ipython",
    "version": 3
   },
   "file_extension": ".py",
   "mimetype": "text/x-python",
   "name": "python",
   "nbconvert_exporter": "python",
   "pygments_lexer": "ipython3",
   "version": "3.6.2"
  },
  "latex_envs": {
   "LaTeX_envs_menu_present": true,
   "autocomplete": true,
   "bibliofile": "biblio.bib",
   "cite_by": "apalike",
   "current_citInitial": 1,
   "eqLabelWithNumbers": true,
   "eqNumInitial": 1,
   "hotkeys": {
    "equation": "Ctrl-E",
    "itemize": "Ctrl-I"
   },
   "labels_anchors": false,
   "latex_user_defs": false,
   "report_style_numbering": false,
   "user_envs_cfg": false
  },
  "toc": {
   "colors": {
    "hover_highlight": "#DAA520",
    "navigate_num": "#000000",
    "navigate_text": "#333333",
    "running_highlight": "#FF0000",
    "selected_highlight": "#FFD700",
    "sidebar_border": "#EEEEEE",
    "wrapper_background": "#FFFFFF"
   },
   "moveMenuLeft": true,
   "nav_menu": {
    "height": "156px",
    "width": "252px"
   },
   "navigate_menu": true,
   "number_sections": true,
   "sideBar": true,
   "threshold": 4,
   "toc_cell": false,
   "toc_section_display": "block",
   "toc_window_display": false,
   "widenNotebook": false
  }
 },
 "nbformat": 4,
 "nbformat_minor": 2
}
