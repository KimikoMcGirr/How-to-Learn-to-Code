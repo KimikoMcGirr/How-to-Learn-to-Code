{
 "cells": [
  {
   "cell_type": "code",
   "execution_count": 35,
   "metadata": {
    "ExecuteTime": {
     "end_time": "2018-07-03T20:56:36.937793Z",
     "start_time": "2018-07-03T20:56:36.835540Z"
    }
   },
   "outputs": [],
   "source": [
    "# Importing modules\n",
    "import pandas as pd\n",
    "from sys import argv\n",
    "\n",
    "# Main funtion\n",
    "def pheno_corr(locus_data, proteins):\n",
    "    '''\n",
    "    The strongest phenotype in a single cell type expressing select proteins.\n",
    "    Parameters\n",
    "    ----------\n",
    "    locus_data: str\n",
    "        path to experimental data in a tab-separated file\n",
    "    \n",
    "    proteins: str\n",
    "        path to list of proteins in a txt file\n",
    "    \n",
    "    Returns\n",
    "    -------\n",
    "    Txt File\n",
    "        - correlation value\n",
    "        - cell type and phenotype\n",
    "    \n",
    "    '''\n",
    "    locus_data = pd.read_table(locus_data)\n",
    "#     print(locus_data.head())\n",
    "    with open(proteins) as f:\n",
    "        thera_proteins = [line.strip() for line in f.readlines()]\n",
    "#     print(thera_proteins)\n",
    "    locus_data = locus_data[(locus_data['Exp Sig'] == True) & locus_data['Protein'].isin(thera_proteins)]\n",
    "    locus_data = locus_data.groupby('Cell Type').mean()\n",
    "#     print(locus_data.head())\n",
    "    pheno_data = locus_data.iloc[:,-3:] # change 3 to 7 before submitting to codestories\n",
    "#     print(locus_data.max().max())\n",
    "    max_value = pheno_data.max().max()\n",
    "    cell_type = locus_data.max(axis=1).idxmax()\n",
    "    phenotype = pheno_data.max(axis=0).idxmax()\n",
    "    \n",
    "#     print(phenotype)\n",
    "#     print(locus_data.head())\n",
    "#     print(thera_proteins)\n",
    "    \n",
    "    with open('results/4.txt', 'w') as outfile:\n",
    "        outfile.write(f'{round(max_value, 3)}\\n')\n",
    "        outfile.write(f'({cell_type}, {phenotype})')\n",
    "# Take command lines\n",
    "if __name__ == '__main__':\n",
    "#     pheno_corr(argv[1], argv[2])\n",
    "    pheno_corr('locus_data.tab', 'theraptrix_protein_orders.txt')\n"
   ]
  },
  {
   "cell_type": "code",
   "execution_count": null,
   "metadata": {
    "collapsed": true
   },
   "outputs": [],
   "source": []
  }
 ],
 "metadata": {
  "hide_input": false,
  "kernelspec": {
   "display_name": "Python 3",
   "language": "python",
   "name": "python3"
  },
  "language_info": {
   "codemirror_mode": {
    "name": "ipython",
    "version": 3
   },
   "file_extension": ".py",
   "mimetype": "text/x-python",
   "name": "python",
   "nbconvert_exporter": "python",
   "pygments_lexer": "ipython3",
   "version": "3.6.6"
  },
  "latex_envs": {
   "LaTeX_envs_menu_present": true,
   "autocomplete": true,
   "bibliofile": "biblio.bib",
   "cite_by": "apalike",
   "current_citInitial": 1,
   "eqLabelWithNumbers": true,
   "eqNumInitial": 1,
   "hotkeys": {
    "equation": "Ctrl-E",
    "itemize": "Ctrl-I"
   },
   "labels_anchors": false,
   "latex_user_defs": false,
   "report_style_numbering": false,
   "user_envs_cfg": false
  },
  "toc": {
   "colors": {
    "hover_highlight": "#DAA520",
    "navigate_num": "#000000",
    "navigate_text": "#333333",
    "running_highlight": "#FF0000",
    "selected_highlight": "#FFD700",
    "sidebar_border": "#EEEEEE",
    "wrapper_background": "#FFFFFF"
   },
   "moveMenuLeft": true,
   "nav_menu": {
    "height": "12px",
    "width": "252px"
   },
   "navigate_menu": true,
   "number_sections": true,
   "sideBar": true,
   "threshold": 4,
   "toc_cell": false,
   "toc_section_display": "block",
   "toc_window_display": false,
   "widenNotebook": false
  },
  "varInspector": {
   "cols": {
    "lenName": 16,
    "lenType": 16,
    "lenVar": 40
   },
   "kernels_config": {
    "python": {
     "delete_cmd_postfix": "",
     "delete_cmd_prefix": "del ",
     "library": "var_list.py",
     "varRefreshCmd": "print(var_dic_list())"
    },
    "r": {
     "delete_cmd_postfix": ") ",
     "delete_cmd_prefix": "rm(",
     "library": "var_list.r",
     "varRefreshCmd": "cat(var_dic_list()) "
    }
   },
   "types_to_exclude": [
    "module",
    "function",
    "builtin_function_or_method",
    "instance",
    "_Feature"
   ],
   "window_display": false
  }
 },
 "nbformat": 4,
 "nbformat_minor": 2
}
