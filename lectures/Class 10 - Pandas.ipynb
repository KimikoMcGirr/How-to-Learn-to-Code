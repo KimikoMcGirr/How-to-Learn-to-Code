{
 "cells": [
  {
   "cell_type": "code",
   "execution_count": 1,
   "metadata": {
    "ExecuteTime": {
     "end_time": "2018-06-26T20:08:03.058520Z",
     "start_time": "2018-06-26T20:08:00.154122Z"
    },
    "collapsed": true
   },
   "outputs": [],
   "source": [
    "import pandas as pd"
   ]
  },
  {
   "cell_type": "code",
   "execution_count": 3,
   "metadata": {
    "ExecuteTime": {
     "end_time": "2018-06-26T20:09:21.421428Z",
     "start_time": "2018-06-26T20:09:21.417422Z"
    },
    "collapsed": true
   },
   "outputs": [],
   "source": [
    "bed = 'C:/Users/sksuzuki/Documents/EXCISION/level_3/ENCFF239FSU.bed'"
   ]
  },
  {
   "cell_type": "code",
   "execution_count": 4,
   "metadata": {
    "ExecuteTime": {
     "end_time": "2018-06-26T20:10:10.070844Z",
     "start_time": "2018-06-26T20:10:10.040765Z"
    }
   },
   "outputs": [
    {
     "data": {
      "text/html": [
       "<div>\n",
       "<style>\n",
       "    .dataframe thead tr:only-child th {\n",
       "        text-align: right;\n",
       "    }\n",
       "\n",
       "    .dataframe thead th {\n",
       "        text-align: left;\n",
       "    }\n",
       "\n",
       "    .dataframe tbody tr th {\n",
       "        vertical-align: top;\n",
       "    }\n",
       "</style>\n",
       "<table border=\"1\" class=\"dataframe\">\n",
       "  <thead>\n",
       "    <tr style=\"text-align: right;\">\n",
       "      <th></th>\n",
       "      <th>chr1</th>\n",
       "      <th>230125030</th>\n",
       "      <th>230174106</th>\n",
       "      <th>ENST00000454058.2</th>\n",
       "      <th>0</th>\n",
       "      <th>+</th>\n",
       "    </tr>\n",
       "  </thead>\n",
       "  <tbody>\n",
       "    <tr>\n",
       "      <th>0</th>\n",
       "      <td>chr1</td>\n",
       "      <td>29913143</td>\n",
       "      <td>29915337</td>\n",
       "      <td>ENST00000623731.1</td>\n",
       "      <td>0</td>\n",
       "      <td>+</td>\n",
       "    </tr>\n",
       "    <tr>\n",
       "      <th>1</th>\n",
       "      <td>chr1</td>\n",
       "      <td>61801712</td>\n",
       "      <td>61803634</td>\n",
       "      <td>ENST00000624542.1</td>\n",
       "      <td>0</td>\n",
       "      <td>+</td>\n",
       "    </tr>\n",
       "    <tr>\n",
       "      <th>2</th>\n",
       "      <td>chr1</td>\n",
       "      <td>23567063</td>\n",
       "      <td>23573122</td>\n",
       "      <td>ENST00000454863.3</td>\n",
       "      <td>0</td>\n",
       "      <td>-</td>\n",
       "    </tr>\n",
       "    <tr>\n",
       "      <th>3</th>\n",
       "      <td>chr1</td>\n",
       "      <td>82587312</td>\n",
       "      <td>82588411</td>\n",
       "      <td>ENST00000575085.1</td>\n",
       "      <td>0</td>\n",
       "      <td>+</td>\n",
       "    </tr>\n",
       "    <tr>\n",
       "      <th>4</th>\n",
       "      <td>chr1</td>\n",
       "      <td>127401725</td>\n",
       "      <td>127470569</td>\n",
       "      <td>ENST00000509671.1</td>\n",
       "      <td>0</td>\n",
       "      <td>+</td>\n",
       "    </tr>\n",
       "  </tbody>\n",
       "</table>\n",
       "</div>"
      ],
      "text/plain": [
       "   chr1  230125030  230174106  ENST00000454058.2  0  +\n",
       "0  chr1   29913143   29915337  ENST00000623731.1  0  +\n",
       "1  chr1   61801712   61803634  ENST00000624542.1  0  +\n",
       "2  chr1   23567063   23573122  ENST00000454863.3  0  -\n",
       "3  chr1   82587312   82588411  ENST00000575085.1  0  +\n",
       "4  chr1  127401725  127470569  ENST00000509671.1  0  +"
      ]
     },
     "execution_count": 4,
     "metadata": {},
     "output_type": "execute_result"
    }
   ],
   "source": [
    "df = pd.read_csv(bed, sep='\\t')\n",
    "df.head()"
   ]
  },
  {
   "cell_type": "code",
   "execution_count": 48,
   "metadata": {
    "ExecuteTime": {
     "end_time": "2018-06-26T20:34:15.154446Z",
     "start_time": "2018-06-26T20:34:15.137399Z"
    }
   },
   "outputs": [
    {
     "data": {
      "text/html": [
       "<div>\n",
       "<style>\n",
       "    .dataframe thead tr:only-child th {\n",
       "        text-align: right;\n",
       "    }\n",
       "\n",
       "    .dataframe thead th {\n",
       "        text-align: left;\n",
       "    }\n",
       "\n",
       "    .dataframe tbody tr th {\n",
       "        vertical-align: top;\n",
       "    }\n",
       "</style>\n",
       "<table border=\"1\" class=\"dataframe\">\n",
       "  <thead>\n",
       "    <tr style=\"text-align: right;\">\n",
       "      <th></th>\n",
       "      <th>0</th>\n",
       "      <th>1</th>\n",
       "      <th>2</th>\n",
       "      <th>3</th>\n",
       "      <th>4</th>\n",
       "      <th>5</th>\n",
       "    </tr>\n",
       "  </thead>\n",
       "  <tbody>\n",
       "    <tr>\n",
       "      <th>0</th>\n",
       "      <td>chr1</td>\n",
       "      <td>230125030</td>\n",
       "      <td>230174106</td>\n",
       "      <td>ENST00000454058.2</td>\n",
       "      <td>0</td>\n",
       "      <td>+</td>\n",
       "    </tr>\n",
       "    <tr>\n",
       "      <th>1</th>\n",
       "      <td>chr1</td>\n",
       "      <td>29913143</td>\n",
       "      <td>29915337</td>\n",
       "      <td>ENST00000623731.1</td>\n",
       "      <td>0</td>\n",
       "      <td>+</td>\n",
       "    </tr>\n",
       "    <tr>\n",
       "      <th>2</th>\n",
       "      <td>chr1</td>\n",
       "      <td>61801712</td>\n",
       "      <td>61803634</td>\n",
       "      <td>ENST00000624542.1</td>\n",
       "      <td>0</td>\n",
       "      <td>+</td>\n",
       "    </tr>\n",
       "    <tr>\n",
       "      <th>3</th>\n",
       "      <td>chr1</td>\n",
       "      <td>23567063</td>\n",
       "      <td>23573122</td>\n",
       "      <td>ENST00000454863.3</td>\n",
       "      <td>0</td>\n",
       "      <td>-</td>\n",
       "    </tr>\n",
       "    <tr>\n",
       "      <th>4</th>\n",
       "      <td>chr1</td>\n",
       "      <td>82587312</td>\n",
       "      <td>82588411</td>\n",
       "      <td>ENST00000575085.1</td>\n",
       "      <td>0</td>\n",
       "      <td>+</td>\n",
       "    </tr>\n",
       "  </tbody>\n",
       "</table>\n",
       "</div>"
      ],
      "text/plain": [
       "      0          1          2                  3  4  5\n",
       "0  chr1  230125030  230174106  ENST00000454058.2  0  +\n",
       "1  chr1   29913143   29915337  ENST00000623731.1  0  +\n",
       "2  chr1   61801712   61803634  ENST00000624542.1  0  +\n",
       "3  chr1   23567063   23573122  ENST00000454863.3  0  -\n",
       "4  chr1   82587312   82588411  ENST00000575085.1  0  +"
      ]
     },
     "execution_count": 48,
     "metadata": {},
     "output_type": "execute_result"
    }
   ],
   "source": [
    "df = pd.read_csv(bed, sep='\\t', header=None)\n",
    "df.head()"
   ]
  },
  {
   "cell_type": "code",
   "execution_count": 7,
   "metadata": {
    "ExecuteTime": {
     "end_time": "2018-06-26T20:11:19.138278Z",
     "start_time": "2018-06-26T20:11:19.132260Z"
    }
   },
   "outputs": [
    {
     "data": {
      "text/plain": [
       "RangeIndex(start=0, stop=12, step=1)"
      ]
     },
     "execution_count": 7,
     "metadata": {},
     "output_type": "execute_result"
    }
   ],
   "source": [
    "df.index"
   ]
  },
  {
   "cell_type": "code",
   "execution_count": 11,
   "metadata": {
    "ExecuteTime": {
     "end_time": "2018-06-26T20:11:47.285390Z",
     "start_time": "2018-06-26T20:11:47.279377Z"
    }
   },
   "outputs": [
    {
     "data": {
      "text/plain": [
       "Int64Index([0, 1, 2, 3, 4, 5], dtype='int64')"
      ]
     },
     "execution_count": 11,
     "metadata": {},
     "output_type": "execute_result"
    }
   ],
   "source": [
    "df.columns"
   ]
  },
  {
   "cell_type": "code",
   "execution_count": 49,
   "metadata": {
    "ExecuteTime": {
     "end_time": "2018-06-26T20:34:17.588373Z",
     "start_time": "2018-06-26T20:34:17.576339Z"
    }
   },
   "outputs": [
    {
     "data": {
      "text/html": [
       "<div>\n",
       "<style>\n",
       "    .dataframe thead tr:only-child th {\n",
       "        text-align: right;\n",
       "    }\n",
       "\n",
       "    .dataframe thead th {\n",
       "        text-align: left;\n",
       "    }\n",
       "\n",
       "    .dataframe tbody tr th {\n",
       "        vertical-align: top;\n",
       "    }\n",
       "</style>\n",
       "<table border=\"1\" class=\"dataframe\">\n",
       "  <thead>\n",
       "    <tr style=\"text-align: right;\">\n",
       "      <th></th>\n",
       "      <th>chromo</th>\n",
       "      <th>start</th>\n",
       "      <th>stop</th>\n",
       "      <th>gene_ID</th>\n",
       "      <th>score</th>\n",
       "      <th>strand</th>\n",
       "    </tr>\n",
       "  </thead>\n",
       "  <tbody>\n",
       "    <tr>\n",
       "      <th>0</th>\n",
       "      <td>chr1</td>\n",
       "      <td>230125030</td>\n",
       "      <td>230174106</td>\n",
       "      <td>ENST00000454058.2</td>\n",
       "      <td>0</td>\n",
       "      <td>+</td>\n",
       "    </tr>\n",
       "    <tr>\n",
       "      <th>1</th>\n",
       "      <td>chr1</td>\n",
       "      <td>29913143</td>\n",
       "      <td>29915337</td>\n",
       "      <td>ENST00000623731.1</td>\n",
       "      <td>0</td>\n",
       "      <td>+</td>\n",
       "    </tr>\n",
       "    <tr>\n",
       "      <th>2</th>\n",
       "      <td>chr1</td>\n",
       "      <td>61801712</td>\n",
       "      <td>61803634</td>\n",
       "      <td>ENST00000624542.1</td>\n",
       "      <td>0</td>\n",
       "      <td>+</td>\n",
       "    </tr>\n",
       "    <tr>\n",
       "      <th>3</th>\n",
       "      <td>chr1</td>\n",
       "      <td>23567063</td>\n",
       "      <td>23573122</td>\n",
       "      <td>ENST00000454863.3</td>\n",
       "      <td>0</td>\n",
       "      <td>-</td>\n",
       "    </tr>\n",
       "    <tr>\n",
       "      <th>4</th>\n",
       "      <td>chr1</td>\n",
       "      <td>82587312</td>\n",
       "      <td>82588411</td>\n",
       "      <td>ENST00000575085.1</td>\n",
       "      <td>0</td>\n",
       "      <td>+</td>\n",
       "    </tr>\n",
       "  </tbody>\n",
       "</table>\n",
       "</div>"
      ],
      "text/plain": [
       "  chromo      start       stop            gene_ID  score strand\n",
       "0   chr1  230125030  230174106  ENST00000454058.2      0      +\n",
       "1   chr1   29913143   29915337  ENST00000623731.1      0      +\n",
       "2   chr1   61801712   61803634  ENST00000624542.1      0      +\n",
       "3   chr1   23567063   23573122  ENST00000454863.3      0      -\n",
       "4   chr1   82587312   82588411  ENST00000575085.1      0      +"
      ]
     },
     "execution_count": 49,
     "metadata": {},
     "output_type": "execute_result"
    }
   ],
   "source": [
    "df.columns = ['chromo', 'start', 'stop', 'gene_ID', 'score', 'strand']\n",
    "df.head()"
   ]
  },
  {
   "cell_type": "code",
   "execution_count": 17,
   "metadata": {
    "ExecuteTime": {
     "end_time": "2018-06-26T20:15:43.824417Z",
     "start_time": "2018-06-26T20:15:43.806378Z"
    }
   },
   "outputs": [
    {
     "data": {
      "text/html": [
       "<div>\n",
       "<style>\n",
       "    .dataframe thead tr:only-child th {\n",
       "        text-align: right;\n",
       "    }\n",
       "\n",
       "    .dataframe thead th {\n",
       "        text-align: left;\n",
       "    }\n",
       "\n",
       "    .dataframe tbody tr th {\n",
       "        vertical-align: top;\n",
       "    }\n",
       "</style>\n",
       "<table border=\"1\" class=\"dataframe\">\n",
       "  <thead>\n",
       "    <tr style=\"text-align: right;\">\n",
       "      <th></th>\n",
       "      <th>chromo</th>\n",
       "      <th>start</th>\n",
       "      <th>stop</th>\n",
       "      <th>gene_ID</th>\n",
       "      <th>score</th>\n",
       "      <th>strand</th>\n",
       "    </tr>\n",
       "  </thead>\n",
       "  <tbody>\n",
       "    <tr>\n",
       "      <th>0</th>\n",
       "      <td>chr1</td>\n",
       "      <td>230125030</td>\n",
       "      <td>230174106</td>\n",
       "      <td>ENST00000454058.2</td>\n",
       "      <td>0</td>\n",
       "      <td>+</td>\n",
       "    </tr>\n",
       "    <tr>\n",
       "      <th>3</th>\n",
       "      <td>chr1</td>\n",
       "      <td>23567063</td>\n",
       "      <td>23573122</td>\n",
       "      <td>ENST00000454863.3</td>\n",
       "      <td>0</td>\n",
       "      <td>-</td>\n",
       "    </tr>\n",
       "    <tr>\n",
       "      <th>6</th>\n",
       "      <td>chr3</td>\n",
       "      <td>86481942</td>\n",
       "      <td>86496996</td>\n",
       "      <td>ENST00000460586.1</td>\n",
       "      <td>0</td>\n",
       "      <td>+</td>\n",
       "    </tr>\n",
       "    <tr>\n",
       "      <th>11</th>\n",
       "      <td>chr3</td>\n",
       "      <td>94876501</td>\n",
       "      <td>94888501</td>\n",
       "      <td>ENST00000460599.2</td>\n",
       "      <td>0</td>\n",
       "      <td>+</td>\n",
       "    </tr>\n",
       "    <tr>\n",
       "      <th>10</th>\n",
       "      <td>chr3</td>\n",
       "      <td>91488742</td>\n",
       "      <td>91876543</td>\n",
       "      <td>ENST00000460876.1</td>\n",
       "      <td>0</td>\n",
       "      <td>+</td>\n",
       "    </tr>\n",
       "    <tr>\n",
       "      <th>8</th>\n",
       "      <td>chr3</td>\n",
       "      <td>61801712</td>\n",
       "      <td>61803634</td>\n",
       "      <td>ENST00000465586.1</td>\n",
       "      <td>0</td>\n",
       "      <td>+</td>\n",
       "    </tr>\n",
       "    <tr>\n",
       "      <th>9</th>\n",
       "      <td>chr3</td>\n",
       "      <td>87881990</td>\n",
       "      <td>87883995</td>\n",
       "      <td>ENST00000466786.1</td>\n",
       "      <td>0</td>\n",
       "      <td>+</td>\n",
       "    </tr>\n",
       "    <tr>\n",
       "      <th>5</th>\n",
       "      <td>chr1</td>\n",
       "      <td>127401725</td>\n",
       "      <td>127470569</td>\n",
       "      <td>ENST00000509671.1</td>\n",
       "      <td>0</td>\n",
       "      <td>+</td>\n",
       "    </tr>\n",
       "    <tr>\n",
       "      <th>7</th>\n",
       "      <td>chr1</td>\n",
       "      <td>53947623</td>\n",
       "      <td>53974950</td>\n",
       "      <td>ENST00000558866.4</td>\n",
       "      <td>0</td>\n",
       "      <td>+</td>\n",
       "    </tr>\n",
       "    <tr>\n",
       "      <th>4</th>\n",
       "      <td>chr1</td>\n",
       "      <td>82587312</td>\n",
       "      <td>82588411</td>\n",
       "      <td>ENST00000575085.1</td>\n",
       "      <td>0</td>\n",
       "      <td>+</td>\n",
       "    </tr>\n",
       "    <tr>\n",
       "      <th>1</th>\n",
       "      <td>chr1</td>\n",
       "      <td>29913143</td>\n",
       "      <td>29915337</td>\n",
       "      <td>ENST00000623731.1</td>\n",
       "      <td>0</td>\n",
       "      <td>+</td>\n",
       "    </tr>\n",
       "    <tr>\n",
       "      <th>2</th>\n",
       "      <td>chr1</td>\n",
       "      <td>61801712</td>\n",
       "      <td>61803634</td>\n",
       "      <td>ENST00000624542.1</td>\n",
       "      <td>0</td>\n",
       "      <td>+</td>\n",
       "    </tr>\n",
       "  </tbody>\n",
       "</table>\n",
       "</div>"
      ],
      "text/plain": [
       "   chromo      start       stop            gene_ID  score strand\n",
       "0    chr1  230125030  230174106  ENST00000454058.2      0      +\n",
       "3    chr1   23567063   23573122  ENST00000454863.3      0      -\n",
       "6    chr3   86481942   86496996  ENST00000460586.1      0      +\n",
       "11   chr3   94876501   94888501  ENST00000460599.2      0      +\n",
       "10   chr3   91488742   91876543  ENST00000460876.1      0      +\n",
       "8    chr3   61801712   61803634  ENST00000465586.1      0      +\n",
       "9    chr3   87881990   87883995  ENST00000466786.1      0      +\n",
       "5    chr1  127401725  127470569  ENST00000509671.1      0      +\n",
       "7    chr1   53947623   53974950  ENST00000558866.4      0      +\n",
       "4    chr1   82587312   82588411  ENST00000575085.1      0      +\n",
       "1    chr1   29913143   29915337  ENST00000623731.1      0      +\n",
       "2    chr1   61801712   61803634  ENST00000624542.1      0      +"
      ]
     },
     "execution_count": 17,
     "metadata": {},
     "output_type": "execute_result"
    }
   ],
   "source": [
    "df_sorted = df.sort_values(by='gene_ID')\n",
    "df_sorted"
   ]
  },
  {
   "cell_type": "code",
   "execution_count": 15,
   "metadata": {
    "ExecuteTime": {
     "end_time": "2018-06-26T20:14:03.569635Z",
     "start_time": "2018-06-26T20:14:03.561605Z"
    }
   },
   "outputs": [
    {
     "data": {
      "text/plain": [
       "0     chr1\n",
       "1     chr1\n",
       "2     chr1\n",
       "3     chr1\n",
       "4     chr1\n",
       "5     chr1\n",
       "6     chr3\n",
       "7     chr1\n",
       "8     chr3\n",
       "9     chr3\n",
       "10    chr3\n",
       "11    chr3\n",
       "Name: chromo, dtype: object"
      ]
     },
     "execution_count": 15,
     "metadata": {},
     "output_type": "execute_result"
    }
   ],
   "source": [
    "df['chromo']"
   ]
  },
  {
   "cell_type": "code",
   "execution_count": 22,
   "metadata": {
    "ExecuteTime": {
     "end_time": "2018-06-26T20:17:46.113902Z",
     "start_time": "2018-06-26T20:17:46.100868Z"
    }
   },
   "outputs": [
    {
     "data": {
      "text/html": [
       "<div>\n",
       "<style>\n",
       "    .dataframe thead tr:only-child th {\n",
       "        text-align: right;\n",
       "    }\n",
       "\n",
       "    .dataframe thead th {\n",
       "        text-align: left;\n",
       "    }\n",
       "\n",
       "    .dataframe tbody tr th {\n",
       "        vertical-align: top;\n",
       "    }\n",
       "</style>\n",
       "<table border=\"1\" class=\"dataframe\">\n",
       "  <thead>\n",
       "    <tr style=\"text-align: right;\">\n",
       "      <th></th>\n",
       "      <th>start</th>\n",
       "      <th>strand</th>\n",
       "    </tr>\n",
       "  </thead>\n",
       "  <tbody>\n",
       "    <tr>\n",
       "      <th>3</th>\n",
       "      <td>23567063</td>\n",
       "      <td>-</td>\n",
       "    </tr>\n",
       "    <tr>\n",
       "      <th>6</th>\n",
       "      <td>86481942</td>\n",
       "      <td>+</td>\n",
       "    </tr>\n",
       "    <tr>\n",
       "      <th>11</th>\n",
       "      <td>94876501</td>\n",
       "      <td>+</td>\n",
       "    </tr>\n",
       "    <tr>\n",
       "      <th>10</th>\n",
       "      <td>91488742</td>\n",
       "      <td>+</td>\n",
       "    </tr>\n",
       "    <tr>\n",
       "      <th>8</th>\n",
       "      <td>61801712</td>\n",
       "      <td>+</td>\n",
       "    </tr>\n",
       "    <tr>\n",
       "      <th>9</th>\n",
       "      <td>87881990</td>\n",
       "      <td>+</td>\n",
       "    </tr>\n",
       "  </tbody>\n",
       "</table>\n",
       "</div>"
      ],
      "text/plain": [
       "       start strand\n",
       "3   23567063      -\n",
       "6   86481942      +\n",
       "11  94876501      +\n",
       "10  91488742      +\n",
       "8   61801712      +\n",
       "9   87881990      +"
      ]
     },
     "execution_count": 22,
     "metadata": {},
     "output_type": "execute_result"
    }
   ],
   "source": [
    "# Select by label \n",
    "\n",
    "df_sorted.loc[3:9,['start', 'strand']]"
   ]
  },
  {
   "cell_type": "code",
   "execution_count": 25,
   "metadata": {
    "ExecuteTime": {
     "end_time": "2018-06-26T20:19:04.853440Z",
     "start_time": "2018-06-26T20:19:04.840373Z"
    }
   },
   "outputs": [
    {
     "data": {
      "text/html": [
       "<div>\n",
       "<style>\n",
       "    .dataframe thead tr:only-child th {\n",
       "        text-align: right;\n",
       "    }\n",
       "\n",
       "    .dataframe thead th {\n",
       "        text-align: left;\n",
       "    }\n",
       "\n",
       "    .dataframe tbody tr th {\n",
       "        vertical-align: top;\n",
       "    }\n",
       "</style>\n",
       "<table border=\"1\" class=\"dataframe\">\n",
       "  <thead>\n",
       "    <tr style=\"text-align: right;\">\n",
       "      <th></th>\n",
       "      <th>start</th>\n",
       "      <th>strand</th>\n",
       "    </tr>\n",
       "  </thead>\n",
       "  <tbody>\n",
       "    <tr>\n",
       "      <th>3</th>\n",
       "      <td>23567063</td>\n",
       "      <td>-</td>\n",
       "    </tr>\n",
       "    <tr>\n",
       "      <th>4</th>\n",
       "      <td>82587312</td>\n",
       "      <td>+</td>\n",
       "    </tr>\n",
       "    <tr>\n",
       "      <th>5</th>\n",
       "      <td>127401725</td>\n",
       "      <td>+</td>\n",
       "    </tr>\n",
       "    <tr>\n",
       "      <th>6</th>\n",
       "      <td>86481942</td>\n",
       "      <td>+</td>\n",
       "    </tr>\n",
       "    <tr>\n",
       "      <th>7</th>\n",
       "      <td>53947623</td>\n",
       "      <td>+</td>\n",
       "    </tr>\n",
       "    <tr>\n",
       "      <th>8</th>\n",
       "      <td>61801712</td>\n",
       "      <td>+</td>\n",
       "    </tr>\n",
       "  </tbody>\n",
       "</table>\n",
       "</div>"
      ],
      "text/plain": [
       "       start strand\n",
       "3   23567063      -\n",
       "4   82587312      +\n",
       "5  127401725      +\n",
       "6   86481942      +\n",
       "7   53947623      +\n",
       "8   61801712      +"
      ]
     },
     "execution_count": 25,
     "metadata": {},
     "output_type": "execute_result"
    }
   ],
   "source": [
    "# Select by position\n",
    "\n",
    "df.iloc[3:9,[1,5]]"
   ]
  },
  {
   "cell_type": "code",
   "execution_count": 26,
   "metadata": {
    "ExecuteTime": {
     "end_time": "2018-06-26T20:20:34.045000Z",
     "start_time": "2018-06-26T20:20:34.028957Z"
    }
   },
   "outputs": [
    {
     "data": {
      "text/html": [
       "<div>\n",
       "<style>\n",
       "    .dataframe thead tr:only-child th {\n",
       "        text-align: right;\n",
       "    }\n",
       "\n",
       "    .dataframe thead th {\n",
       "        text-align: left;\n",
       "    }\n",
       "\n",
       "    .dataframe tbody tr th {\n",
       "        vertical-align: top;\n",
       "    }\n",
       "</style>\n",
       "<table border=\"1\" class=\"dataframe\">\n",
       "  <thead>\n",
       "    <tr style=\"text-align: right;\">\n",
       "      <th></th>\n",
       "      <th>chromo</th>\n",
       "      <th>start</th>\n",
       "      <th>stop</th>\n",
       "      <th>gene_ID</th>\n",
       "      <th>score</th>\n",
       "      <th>strand</th>\n",
       "    </tr>\n",
       "  </thead>\n",
       "  <tbody>\n",
       "    <tr>\n",
       "      <th>1</th>\n",
       "      <td>chr1</td>\n",
       "      <td>29913143</td>\n",
       "      <td>29915337</td>\n",
       "      <td>ENST00000623731.1</td>\n",
       "      <td>0</td>\n",
       "      <td>+</td>\n",
       "    </tr>\n",
       "    <tr>\n",
       "      <th>2</th>\n",
       "      <td>chr1</td>\n",
       "      <td>61801712</td>\n",
       "      <td>61803634</td>\n",
       "      <td>ENST00000624542.1</td>\n",
       "      <td>0</td>\n",
       "      <td>+</td>\n",
       "    </tr>\n",
       "  </tbody>\n",
       "</table>\n",
       "</div>"
      ],
      "text/plain": [
       "  chromo     start      stop            gene_ID  score strand\n",
       "1   chr1  29913143  29915337  ENST00000623731.1      0      +\n",
       "2   chr1  61801712  61803634  ENST00000624542.1      0      +"
      ]
     },
     "execution_count": 26,
     "metadata": {},
     "output_type": "execute_result"
    }
   ],
   "source": [
    "df.iloc[1:3,:]"
   ]
  },
  {
   "cell_type": "code",
   "execution_count": 27,
   "metadata": {
    "ExecuteTime": {
     "end_time": "2018-06-26T20:20:54.020050Z",
     "start_time": "2018-06-26T20:20:54.010011Z"
    }
   },
   "outputs": [
    {
     "data": {
      "text/html": [
       "<div>\n",
       "<style>\n",
       "    .dataframe thead tr:only-child th {\n",
       "        text-align: right;\n",
       "    }\n",
       "\n",
       "    .dataframe thead th {\n",
       "        text-align: left;\n",
       "    }\n",
       "\n",
       "    .dataframe tbody tr th {\n",
       "        vertical-align: top;\n",
       "    }\n",
       "</style>\n",
       "<table border=\"1\" class=\"dataframe\">\n",
       "  <thead>\n",
       "    <tr style=\"text-align: right;\">\n",
       "      <th></th>\n",
       "      <th>start</th>\n",
       "      <th>stop</th>\n",
       "    </tr>\n",
       "  </thead>\n",
       "  <tbody>\n",
       "    <tr>\n",
       "      <th>0</th>\n",
       "      <td>230125030</td>\n",
       "      <td>230174106</td>\n",
       "    </tr>\n",
       "    <tr>\n",
       "      <th>1</th>\n",
       "      <td>29913143</td>\n",
       "      <td>29915337</td>\n",
       "    </tr>\n",
       "    <tr>\n",
       "      <th>2</th>\n",
       "      <td>61801712</td>\n",
       "      <td>61803634</td>\n",
       "    </tr>\n",
       "    <tr>\n",
       "      <th>3</th>\n",
       "      <td>23567063</td>\n",
       "      <td>23573122</td>\n",
       "    </tr>\n",
       "    <tr>\n",
       "      <th>4</th>\n",
       "      <td>82587312</td>\n",
       "      <td>82588411</td>\n",
       "    </tr>\n",
       "    <tr>\n",
       "      <th>5</th>\n",
       "      <td>127401725</td>\n",
       "      <td>127470569</td>\n",
       "    </tr>\n",
       "    <tr>\n",
       "      <th>6</th>\n",
       "      <td>86481942</td>\n",
       "      <td>86496996</td>\n",
       "    </tr>\n",
       "    <tr>\n",
       "      <th>7</th>\n",
       "      <td>53947623</td>\n",
       "      <td>53974950</td>\n",
       "    </tr>\n",
       "    <tr>\n",
       "      <th>8</th>\n",
       "      <td>61801712</td>\n",
       "      <td>61803634</td>\n",
       "    </tr>\n",
       "    <tr>\n",
       "      <th>9</th>\n",
       "      <td>87881990</td>\n",
       "      <td>87883995</td>\n",
       "    </tr>\n",
       "    <tr>\n",
       "      <th>10</th>\n",
       "      <td>91488742</td>\n",
       "      <td>91876543</td>\n",
       "    </tr>\n",
       "    <tr>\n",
       "      <th>11</th>\n",
       "      <td>94876501</td>\n",
       "      <td>94888501</td>\n",
       "    </tr>\n",
       "  </tbody>\n",
       "</table>\n",
       "</div>"
      ],
      "text/plain": [
       "        start       stop\n",
       "0   230125030  230174106\n",
       "1    29913143   29915337\n",
       "2    61801712   61803634\n",
       "3    23567063   23573122\n",
       "4    82587312   82588411\n",
       "5   127401725  127470569\n",
       "6    86481942   86496996\n",
       "7    53947623   53974950\n",
       "8    61801712   61803634\n",
       "9    87881990   87883995\n",
       "10   91488742   91876543\n",
       "11   94876501   94888501"
      ]
     },
     "execution_count": 27,
     "metadata": {},
     "output_type": "execute_result"
    }
   ],
   "source": [
    "df.iloc[:,1:3]"
   ]
  },
  {
   "cell_type": "code",
   "execution_count": 28,
   "metadata": {
    "ExecuteTime": {
     "end_time": "2018-06-26T20:21:53.124544Z",
     "start_time": "2018-06-26T20:21:53.112513Z"
    }
   },
   "outputs": [
    {
     "data": {
      "text/html": [
       "<div>\n",
       "<style>\n",
       "    .dataframe thead tr:only-child th {\n",
       "        text-align: right;\n",
       "    }\n",
       "\n",
       "    .dataframe thead th {\n",
       "        text-align: left;\n",
       "    }\n",
       "\n",
       "    .dataframe tbody tr th {\n",
       "        vertical-align: top;\n",
       "    }\n",
       "</style>\n",
       "<table border=\"1\" class=\"dataframe\">\n",
       "  <thead>\n",
       "    <tr style=\"text-align: right;\">\n",
       "      <th></th>\n",
       "      <th>chromo</th>\n",
       "      <th>start</th>\n",
       "      <th>stop</th>\n",
       "      <th>gene_ID</th>\n",
       "      <th>score</th>\n",
       "      <th>strand</th>\n",
       "    </tr>\n",
       "  </thead>\n",
       "  <tbody>\n",
       "    <tr>\n",
       "      <th>0</th>\n",
       "      <td>chr1</td>\n",
       "      <td>230125030</td>\n",
       "      <td>230174106</td>\n",
       "      <td>ENST00000454058.2</td>\n",
       "      <td>0</td>\n",
       "      <td>+</td>\n",
       "    </tr>\n",
       "    <tr>\n",
       "      <th>5</th>\n",
       "      <td>chr1</td>\n",
       "      <td>127401725</td>\n",
       "      <td>127470569</td>\n",
       "      <td>ENST00000509671.1</td>\n",
       "      <td>0</td>\n",
       "      <td>+</td>\n",
       "    </tr>\n",
       "  </tbody>\n",
       "</table>\n",
       "</div>"
      ],
      "text/plain": [
       "  chromo      start       stop            gene_ID  score strand\n",
       "0   chr1  230125030  230174106  ENST00000454058.2      0      +\n",
       "5   chr1  127401725  127470569  ENST00000509671.1      0      +"
      ]
     },
     "execution_count": 28,
     "metadata": {},
     "output_type": "execute_result"
    }
   ],
   "source": [
    "# Threshold\n",
    "\n",
    "df[df['start'] > 100000000]"
   ]
  },
  {
   "cell_type": "code",
   "execution_count": 30,
   "metadata": {
    "ExecuteTime": {
     "end_time": "2018-06-26T20:22:55.884983Z",
     "start_time": "2018-06-26T20:22:55.871950Z"
    }
   },
   "outputs": [
    {
     "data": {
      "text/html": [
       "<div>\n",
       "<style>\n",
       "    .dataframe thead tr:only-child th {\n",
       "        text-align: right;\n",
       "    }\n",
       "\n",
       "    .dataframe thead th {\n",
       "        text-align: left;\n",
       "    }\n",
       "\n",
       "    .dataframe tbody tr th {\n",
       "        vertical-align: top;\n",
       "    }\n",
       "</style>\n",
       "<table border=\"1\" class=\"dataframe\">\n",
       "  <thead>\n",
       "    <tr style=\"text-align: right;\">\n",
       "      <th></th>\n",
       "      <th>chromo</th>\n",
       "      <th>start</th>\n",
       "      <th>stop</th>\n",
       "      <th>gene_ID</th>\n",
       "      <th>score</th>\n",
       "      <th>strand</th>\n",
       "    </tr>\n",
       "  </thead>\n",
       "  <tbody>\n",
       "    <tr>\n",
       "      <th>6</th>\n",
       "      <td>chr3</td>\n",
       "      <td>86481942</td>\n",
       "      <td>86496996</td>\n",
       "      <td>ENST00000460586.1</td>\n",
       "      <td>0</td>\n",
       "      <td>+</td>\n",
       "    </tr>\n",
       "    <tr>\n",
       "      <th>8</th>\n",
       "      <td>chr3</td>\n",
       "      <td>61801712</td>\n",
       "      <td>61803634</td>\n",
       "      <td>ENST00000465586.1</td>\n",
       "      <td>0</td>\n",
       "      <td>+</td>\n",
       "    </tr>\n",
       "    <tr>\n",
       "      <th>9</th>\n",
       "      <td>chr3</td>\n",
       "      <td>87881990</td>\n",
       "      <td>87883995</td>\n",
       "      <td>ENST00000466786.1</td>\n",
       "      <td>0</td>\n",
       "      <td>+</td>\n",
       "    </tr>\n",
       "    <tr>\n",
       "      <th>10</th>\n",
       "      <td>chr3</td>\n",
       "      <td>91488742</td>\n",
       "      <td>91876543</td>\n",
       "      <td>ENST00000460876.1</td>\n",
       "      <td>0</td>\n",
       "      <td>+</td>\n",
       "    </tr>\n",
       "    <tr>\n",
       "      <th>11</th>\n",
       "      <td>chr3</td>\n",
       "      <td>94876501</td>\n",
       "      <td>94888501</td>\n",
       "      <td>ENST00000460599.2</td>\n",
       "      <td>0</td>\n",
       "      <td>+</td>\n",
       "    </tr>\n",
       "  </tbody>\n",
       "</table>\n",
       "</div>"
      ],
      "text/plain": [
       "   chromo     start      stop            gene_ID  score strand\n",
       "6    chr3  86481942  86496996  ENST00000460586.1      0      +\n",
       "8    chr3  61801712  61803634  ENST00000465586.1      0      +\n",
       "9    chr3  87881990  87883995  ENST00000466786.1      0      +\n",
       "10   chr3  91488742  91876543  ENST00000460876.1      0      +\n",
       "11   chr3  94876501  94888501  ENST00000460599.2      0      +"
      ]
     },
     "execution_count": 30,
     "metadata": {},
     "output_type": "execute_result"
    }
   ],
   "source": [
    "df[df['chromo'].isin(['chr3'])]"
   ]
  },
  {
   "cell_type": "code",
   "execution_count": 33,
   "metadata": {
    "ExecuteTime": {
     "end_time": "2018-06-26T20:24:56.587994Z",
     "start_time": "2018-06-26T20:24:56.571947Z"
    }
   },
   "outputs": [
    {
     "name": "stdout",
     "output_type": "stream",
     "text": [
      "  chromo      start       stop            gene_ID  score strand\n",
      "0   chr1  230125030  230174106  ENST00000454058.2      0      +\n",
      "1   chr1   29913143   29915337  ENST00000623731.1      0      +\n",
      "2   chr1   61801712   61803634  ENST00000624542.1      0      +\n",
      "   chromo     start      stop            gene_ID  score strand\n",
      "7    chr1  53947623  53974950  ENST00000558866.4      0      +\n",
      "8    chr3  61801712  61803634  ENST00000465586.1      0      +\n",
      "9    chr3  87881990  87883995  ENST00000466786.1      0      +\n",
      "10   chr3  91488742  91876543  ENST00000460876.1      0      +\n",
      "11   chr3  94876501  94888501  ENST00000460599.2      0      +\n"
     ]
    }
   ],
   "source": [
    "# Joining dataframe\n",
    "\n",
    "df1 = df[0:3]\n",
    "df2 = df[7:]\n",
    "\n",
    "print(df1)\n",
    "\n",
    "print(df2)"
   ]
  },
  {
   "cell_type": "code",
   "execution_count": 35,
   "metadata": {
    "ExecuteTime": {
     "end_time": "2018-06-26T20:26:03.933117Z",
     "start_time": "2018-06-26T20:26:03.916074Z"
    }
   },
   "outputs": [
    {
     "data": {
      "text/html": [
       "<div>\n",
       "<style>\n",
       "    .dataframe thead tr:only-child th {\n",
       "        text-align: right;\n",
       "    }\n",
       "\n",
       "    .dataframe thead th {\n",
       "        text-align: left;\n",
       "    }\n",
       "\n",
       "    .dataframe tbody tr th {\n",
       "        vertical-align: top;\n",
       "    }\n",
       "</style>\n",
       "<table border=\"1\" class=\"dataframe\">\n",
       "  <thead>\n",
       "    <tr style=\"text-align: right;\">\n",
       "      <th></th>\n",
       "      <th>chromo</th>\n",
       "      <th>start</th>\n",
       "      <th>stop</th>\n",
       "      <th>gene_ID</th>\n",
       "      <th>score</th>\n",
       "      <th>strand</th>\n",
       "    </tr>\n",
       "  </thead>\n",
       "  <tbody>\n",
       "    <tr>\n",
       "      <th>0</th>\n",
       "      <td>chr1</td>\n",
       "      <td>230125030</td>\n",
       "      <td>230174106</td>\n",
       "      <td>ENST00000454058.2</td>\n",
       "      <td>0</td>\n",
       "      <td>+</td>\n",
       "    </tr>\n",
       "    <tr>\n",
       "      <th>1</th>\n",
       "      <td>chr1</td>\n",
       "      <td>29913143</td>\n",
       "      <td>29915337</td>\n",
       "      <td>ENST00000623731.1</td>\n",
       "      <td>0</td>\n",
       "      <td>+</td>\n",
       "    </tr>\n",
       "    <tr>\n",
       "      <th>2</th>\n",
       "      <td>chr1</td>\n",
       "      <td>61801712</td>\n",
       "      <td>61803634</td>\n",
       "      <td>ENST00000624542.1</td>\n",
       "      <td>0</td>\n",
       "      <td>+</td>\n",
       "    </tr>\n",
       "    <tr>\n",
       "      <th>7</th>\n",
       "      <td>chr1</td>\n",
       "      <td>53947623</td>\n",
       "      <td>53974950</td>\n",
       "      <td>ENST00000558866.4</td>\n",
       "      <td>0</td>\n",
       "      <td>+</td>\n",
       "    </tr>\n",
       "    <tr>\n",
       "      <th>8</th>\n",
       "      <td>chr3</td>\n",
       "      <td>61801712</td>\n",
       "      <td>61803634</td>\n",
       "      <td>ENST00000465586.1</td>\n",
       "      <td>0</td>\n",
       "      <td>+</td>\n",
       "    </tr>\n",
       "    <tr>\n",
       "      <th>9</th>\n",
       "      <td>chr3</td>\n",
       "      <td>87881990</td>\n",
       "      <td>87883995</td>\n",
       "      <td>ENST00000466786.1</td>\n",
       "      <td>0</td>\n",
       "      <td>+</td>\n",
       "    </tr>\n",
       "    <tr>\n",
       "      <th>10</th>\n",
       "      <td>chr3</td>\n",
       "      <td>91488742</td>\n",
       "      <td>91876543</td>\n",
       "      <td>ENST00000460876.1</td>\n",
       "      <td>0</td>\n",
       "      <td>+</td>\n",
       "    </tr>\n",
       "    <tr>\n",
       "      <th>11</th>\n",
       "      <td>chr3</td>\n",
       "      <td>94876501</td>\n",
       "      <td>94888501</td>\n",
       "      <td>ENST00000460599.2</td>\n",
       "      <td>0</td>\n",
       "      <td>+</td>\n",
       "    </tr>\n",
       "  </tbody>\n",
       "</table>\n",
       "</div>"
      ],
      "text/plain": [
       "   chromo      start       stop            gene_ID  score strand\n",
       "0    chr1  230125030  230174106  ENST00000454058.2      0      +\n",
       "1    chr1   29913143   29915337  ENST00000623731.1      0      +\n",
       "2    chr1   61801712   61803634  ENST00000624542.1      0      +\n",
       "7    chr1   53947623   53974950  ENST00000558866.4      0      +\n",
       "8    chr3   61801712   61803634  ENST00000465586.1      0      +\n",
       "9    chr3   87881990   87883995  ENST00000466786.1      0      +\n",
       "10   chr3   91488742   91876543  ENST00000460876.1      0      +\n",
       "11   chr3   94876501   94888501  ENST00000460599.2      0      +"
      ]
     },
     "execution_count": 35,
     "metadata": {},
     "output_type": "execute_result"
    }
   ],
   "source": [
    "dfs = [df1, df2]\n",
    "df3 = pd.concat(dfs)\n",
    "df3"
   ]
  },
  {
   "cell_type": "code",
   "execution_count": 36,
   "metadata": {
    "ExecuteTime": {
     "end_time": "2018-06-26T20:27:36.445907Z",
     "start_time": "2018-06-26T20:27:36.434880Z"
    }
   },
   "outputs": [
    {
     "data": {
      "text/html": [
       "<div>\n",
       "<style>\n",
       "    .dataframe thead tr:only-child th {\n",
       "        text-align: right;\n",
       "    }\n",
       "\n",
       "    .dataframe thead th {\n",
       "        text-align: left;\n",
       "    }\n",
       "\n",
       "    .dataframe tbody tr th {\n",
       "        vertical-align: top;\n",
       "    }\n",
       "</style>\n",
       "<table border=\"1\" class=\"dataframe\">\n",
       "  <thead>\n",
       "    <tr style=\"text-align: right;\">\n",
       "      <th></th>\n",
       "      <th>chromo</th>\n",
       "      <th>start</th>\n",
       "    </tr>\n",
       "  </thead>\n",
       "  <tbody>\n",
       "    <tr>\n",
       "      <th>0</th>\n",
       "      <td>chr1</td>\n",
       "      <td>0</td>\n",
       "    </tr>\n",
       "    <tr>\n",
       "      <th>1</th>\n",
       "      <td>chr2</td>\n",
       "      <td>100</td>\n",
       "    </tr>\n",
       "  </tbody>\n",
       "</table>\n",
       "</div>"
      ],
      "text/plain": [
       "  chromo  start\n",
       "0   chr1      0\n",
       "1   chr2    100"
      ]
     },
     "execution_count": 36,
     "metadata": {},
     "output_type": "execute_result"
    }
   ],
   "source": [
    "left = pd.DataFrame({'chromo': ['chr1', 'chr2'], 'start': [0, 100]})\n",
    "left"
   ]
  },
  {
   "cell_type": "code",
   "execution_count": 38,
   "metadata": {
    "ExecuteTime": {
     "end_time": "2018-06-26T20:28:33.849567Z",
     "start_time": "2018-06-26T20:28:33.837534Z"
    }
   },
   "outputs": [
    {
     "data": {
      "text/html": [
       "<div>\n",
       "<style>\n",
       "    .dataframe thead tr:only-child th {\n",
       "        text-align: right;\n",
       "    }\n",
       "\n",
       "    .dataframe thead th {\n",
       "        text-align: left;\n",
       "    }\n",
       "\n",
       "    .dataframe tbody tr th {\n",
       "        vertical-align: top;\n",
       "    }\n",
       "</style>\n",
       "<table border=\"1\" class=\"dataframe\">\n",
       "  <thead>\n",
       "    <tr style=\"text-align: right;\">\n",
       "      <th></th>\n",
       "      <th>chromo</th>\n",
       "      <th>end</th>\n",
       "    </tr>\n",
       "  </thead>\n",
       "  <tbody>\n",
       "    <tr>\n",
       "      <th>0</th>\n",
       "      <td>chr1</td>\n",
       "      <td>10</td>\n",
       "    </tr>\n",
       "    <tr>\n",
       "      <th>1</th>\n",
       "      <td>chr2</td>\n",
       "      <td>110</td>\n",
       "    </tr>\n",
       "  </tbody>\n",
       "</table>\n",
       "</div>"
      ],
      "text/plain": [
       "  chromo  end\n",
       "0   chr1   10\n",
       "1   chr2  110"
      ]
     },
     "execution_count": 38,
     "metadata": {},
     "output_type": "execute_result"
    }
   ],
   "source": [
    "right = pd.DataFrame({'chromo': ['chr1', 'chr2'], 'end' : [10, 110]})\n",
    "right"
   ]
  },
  {
   "cell_type": "code",
   "execution_count": 39,
   "metadata": {
    "ExecuteTime": {
     "end_time": "2018-06-26T20:29:09.461924Z",
     "start_time": "2018-06-26T20:29:09.448892Z"
    }
   },
   "outputs": [
    {
     "data": {
      "text/html": [
       "<div>\n",
       "<style>\n",
       "    .dataframe thead tr:only-child th {\n",
       "        text-align: right;\n",
       "    }\n",
       "\n",
       "    .dataframe thead th {\n",
       "        text-align: left;\n",
       "    }\n",
       "\n",
       "    .dataframe tbody tr th {\n",
       "        vertical-align: top;\n",
       "    }\n",
       "</style>\n",
       "<table border=\"1\" class=\"dataframe\">\n",
       "  <thead>\n",
       "    <tr style=\"text-align: right;\">\n",
       "      <th></th>\n",
       "      <th>chromo</th>\n",
       "      <th>start</th>\n",
       "      <th>end</th>\n",
       "    </tr>\n",
       "  </thead>\n",
       "  <tbody>\n",
       "    <tr>\n",
       "      <th>0</th>\n",
       "      <td>chr1</td>\n",
       "      <td>0</td>\n",
       "      <td>10</td>\n",
       "    </tr>\n",
       "    <tr>\n",
       "      <th>1</th>\n",
       "      <td>chr2</td>\n",
       "      <td>100</td>\n",
       "      <td>110</td>\n",
       "    </tr>\n",
       "  </tbody>\n",
       "</table>\n",
       "</div>"
      ],
      "text/plain": [
       "  chromo  start  end\n",
       "0   chr1      0   10\n",
       "1   chr2    100  110"
      ]
     },
     "execution_count": 39,
     "metadata": {},
     "output_type": "execute_result"
    }
   ],
   "source": [
    "pd.merge(left, right, on='chromo')"
   ]
  },
  {
   "cell_type": "code",
   "execution_count": 40,
   "metadata": {
    "ExecuteTime": {
     "end_time": "2018-06-26T20:31:49.151035Z",
     "start_time": "2018-06-26T20:31:49.143013Z"
    }
   },
   "outputs": [
    {
     "data": {
      "text/plain": [
       "0     230125030\n",
       "1      29913143\n",
       "2      61801712\n",
       "3      23567063\n",
       "4      82587312\n",
       "5     127401725\n",
       "6      86481942\n",
       "7      53947623\n",
       "8      61801712\n",
       "9      87881990\n",
       "10     91488742\n",
       "11     94876501\n",
       "Name: start, dtype: int64"
      ]
     },
     "execution_count": 40,
     "metadata": {},
     "output_type": "execute_result"
    }
   ],
   "source": [
    "def square(x):\n",
    "    return x**2\n",
    "df['start']"
   ]
  },
  {
   "cell_type": "code",
   "execution_count": 50,
   "metadata": {
    "ExecuteTime": {
     "end_time": "2018-06-26T20:34:25.275963Z",
     "start_time": "2018-06-26T20:34:25.268941Z"
    }
   },
   "outputs": [
    {
     "data": {
      "text/plain": [
       "0     52957529432500900\n",
       "1       894796124138449\n",
       "2      3819451606130944\n",
       "3       555406458445969\n",
       "4      6820664103385344\n",
       "5     16231199532975625\n",
       "6      7479126292091364\n",
       "7      2910346027350129\n",
       "8      3819451606130944\n",
       "9      7723244166360100\n",
       "10     8370189912742564\n",
       "11     9001550442003001\n",
       "Name: start, dtype: int64"
      ]
     },
     "execution_count": 50,
     "metadata": {},
     "output_type": "execute_result"
    }
   ],
   "source": [
    "df['start'].apply(square)"
   ]
  },
  {
   "cell_type": "code",
   "execution_count": 51,
   "metadata": {
    "ExecuteTime": {
     "end_time": "2018-06-26T20:34:30.091336Z",
     "start_time": "2018-06-26T20:34:30.074268Z"
    }
   },
   "outputs": [
    {
     "data": {
      "text/html": [
       "<div>\n",
       "<style>\n",
       "    .dataframe thead tr:only-child th {\n",
       "        text-align: right;\n",
       "    }\n",
       "\n",
       "    .dataframe thead th {\n",
       "        text-align: left;\n",
       "    }\n",
       "\n",
       "    .dataframe tbody tr th {\n",
       "        vertical-align: top;\n",
       "    }\n",
       "</style>\n",
       "<table border=\"1\" class=\"dataframe\">\n",
       "  <thead>\n",
       "    <tr style=\"text-align: right;\">\n",
       "      <th></th>\n",
       "      <th>chromo</th>\n",
       "      <th>start</th>\n",
       "      <th>stop</th>\n",
       "      <th>gene_ID</th>\n",
       "      <th>score</th>\n",
       "      <th>strand</th>\n",
       "    </tr>\n",
       "  </thead>\n",
       "  <tbody>\n",
       "    <tr>\n",
       "      <th>0</th>\n",
       "      <td>chr1</td>\n",
       "      <td>230125030</td>\n",
       "      <td>230174106</td>\n",
       "      <td>ENST00000454058.2</td>\n",
       "      <td>0</td>\n",
       "      <td>+</td>\n",
       "    </tr>\n",
       "    <tr>\n",
       "      <th>1</th>\n",
       "      <td>chr1</td>\n",
       "      <td>29913143</td>\n",
       "      <td>29915337</td>\n",
       "      <td>ENST00000623731.1</td>\n",
       "      <td>0</td>\n",
       "      <td>+</td>\n",
       "    </tr>\n",
       "    <tr>\n",
       "      <th>2</th>\n",
       "      <td>chr1</td>\n",
       "      <td>61801712</td>\n",
       "      <td>61803634</td>\n",
       "      <td>ENST00000624542.1</td>\n",
       "      <td>0</td>\n",
       "      <td>+</td>\n",
       "    </tr>\n",
       "    <tr>\n",
       "      <th>3</th>\n",
       "      <td>chr1</td>\n",
       "      <td>23567063</td>\n",
       "      <td>23573122</td>\n",
       "      <td>ENST00000454863.3</td>\n",
       "      <td>0</td>\n",
       "      <td>-</td>\n",
       "    </tr>\n",
       "    <tr>\n",
       "      <th>4</th>\n",
       "      <td>chr1</td>\n",
       "      <td>82587312</td>\n",
       "      <td>82588411</td>\n",
       "      <td>ENST00000575085.1</td>\n",
       "      <td>0</td>\n",
       "      <td>+</td>\n",
       "    </tr>\n",
       "    <tr>\n",
       "      <th>5</th>\n",
       "      <td>chr1</td>\n",
       "      <td>127401725</td>\n",
       "      <td>127470569</td>\n",
       "      <td>ENST00000509671.1</td>\n",
       "      <td>0</td>\n",
       "      <td>+</td>\n",
       "    </tr>\n",
       "    <tr>\n",
       "      <th>6</th>\n",
       "      <td>chr3</td>\n",
       "      <td>86481942</td>\n",
       "      <td>86496996</td>\n",
       "      <td>ENST00000460586.1</td>\n",
       "      <td>0</td>\n",
       "      <td>+</td>\n",
       "    </tr>\n",
       "    <tr>\n",
       "      <th>7</th>\n",
       "      <td>chr1</td>\n",
       "      <td>53947623</td>\n",
       "      <td>53974950</td>\n",
       "      <td>ENST00000558866.4</td>\n",
       "      <td>0</td>\n",
       "      <td>+</td>\n",
       "    </tr>\n",
       "    <tr>\n",
       "      <th>8</th>\n",
       "      <td>chr3</td>\n",
       "      <td>61801712</td>\n",
       "      <td>61803634</td>\n",
       "      <td>ENST00000465586.1</td>\n",
       "      <td>0</td>\n",
       "      <td>+</td>\n",
       "    </tr>\n",
       "    <tr>\n",
       "      <th>9</th>\n",
       "      <td>chr3</td>\n",
       "      <td>87881990</td>\n",
       "      <td>87883995</td>\n",
       "      <td>ENST00000466786.1</td>\n",
       "      <td>0</td>\n",
       "      <td>+</td>\n",
       "    </tr>\n",
       "    <tr>\n",
       "      <th>10</th>\n",
       "      <td>chr3</td>\n",
       "      <td>91488742</td>\n",
       "      <td>91876543</td>\n",
       "      <td>ENST00000460876.1</td>\n",
       "      <td>0</td>\n",
       "      <td>+</td>\n",
       "    </tr>\n",
       "    <tr>\n",
       "      <th>11</th>\n",
       "      <td>chr3</td>\n",
       "      <td>94876501</td>\n",
       "      <td>94888501</td>\n",
       "      <td>ENST00000460599.2</td>\n",
       "      <td>0</td>\n",
       "      <td>+</td>\n",
       "    </tr>\n",
       "  </tbody>\n",
       "</table>\n",
       "</div>"
      ],
      "text/plain": [
       "   chromo      start       stop            gene_ID  score strand\n",
       "0    chr1  230125030  230174106  ENST00000454058.2      0      +\n",
       "1    chr1   29913143   29915337  ENST00000623731.1      0      +\n",
       "2    chr1   61801712   61803634  ENST00000624542.1      0      +\n",
       "3    chr1   23567063   23573122  ENST00000454863.3      0      -\n",
       "4    chr1   82587312   82588411  ENST00000575085.1      0      +\n",
       "5    chr1  127401725  127470569  ENST00000509671.1      0      +\n",
       "6    chr3   86481942   86496996  ENST00000460586.1      0      +\n",
       "7    chr1   53947623   53974950  ENST00000558866.4      0      +\n",
       "8    chr3   61801712   61803634  ENST00000465586.1      0      +\n",
       "9    chr3   87881990   87883995  ENST00000466786.1      0      +\n",
       "10   chr3   91488742   91876543  ENST00000460876.1      0      +\n",
       "11   chr3   94876501   94888501  ENST00000460599.2      0      +"
      ]
     },
     "execution_count": 51,
     "metadata": {},
     "output_type": "execute_result"
    }
   ],
   "source": [
    "df"
   ]
  },
  {
   "cell_type": "code",
   "execution_count": 52,
   "metadata": {
    "ExecuteTime": {
     "end_time": "2018-06-26T20:34:51.476675Z",
     "start_time": "2018-06-26T20:34:51.460631Z"
    }
   },
   "outputs": [
    {
     "data": {
      "text/html": [
       "<div>\n",
       "<style>\n",
       "    .dataframe thead tr:only-child th {\n",
       "        text-align: right;\n",
       "    }\n",
       "\n",
       "    .dataframe thead th {\n",
       "        text-align: left;\n",
       "    }\n",
       "\n",
       "    .dataframe tbody tr th {\n",
       "        vertical-align: top;\n",
       "    }\n",
       "</style>\n",
       "<table border=\"1\" class=\"dataframe\">\n",
       "  <thead>\n",
       "    <tr style=\"text-align: right;\">\n",
       "      <th></th>\n",
       "      <th>chromo</th>\n",
       "      <th>start</th>\n",
       "      <th>stop</th>\n",
       "      <th>gene_ID</th>\n",
       "      <th>score</th>\n",
       "      <th>strand</th>\n",
       "    </tr>\n",
       "  </thead>\n",
       "  <tbody>\n",
       "    <tr>\n",
       "      <th>0</th>\n",
       "      <td>chr1</td>\n",
       "      <td>52957529432500900</td>\n",
       "      <td>230174106</td>\n",
       "      <td>ENST00000454058.2</td>\n",
       "      <td>0</td>\n",
       "      <td>+</td>\n",
       "    </tr>\n",
       "    <tr>\n",
       "      <th>1</th>\n",
       "      <td>chr1</td>\n",
       "      <td>894796124138449</td>\n",
       "      <td>29915337</td>\n",
       "      <td>ENST00000623731.1</td>\n",
       "      <td>0</td>\n",
       "      <td>+</td>\n",
       "    </tr>\n",
       "    <tr>\n",
       "      <th>2</th>\n",
       "      <td>chr1</td>\n",
       "      <td>3819451606130944</td>\n",
       "      <td>61803634</td>\n",
       "      <td>ENST00000624542.1</td>\n",
       "      <td>0</td>\n",
       "      <td>+</td>\n",
       "    </tr>\n",
       "    <tr>\n",
       "      <th>3</th>\n",
       "      <td>chr1</td>\n",
       "      <td>555406458445969</td>\n",
       "      <td>23573122</td>\n",
       "      <td>ENST00000454863.3</td>\n",
       "      <td>0</td>\n",
       "      <td>-</td>\n",
       "    </tr>\n",
       "    <tr>\n",
       "      <th>4</th>\n",
       "      <td>chr1</td>\n",
       "      <td>6820664103385344</td>\n",
       "      <td>82588411</td>\n",
       "      <td>ENST00000575085.1</td>\n",
       "      <td>0</td>\n",
       "      <td>+</td>\n",
       "    </tr>\n",
       "    <tr>\n",
       "      <th>5</th>\n",
       "      <td>chr1</td>\n",
       "      <td>16231199532975625</td>\n",
       "      <td>127470569</td>\n",
       "      <td>ENST00000509671.1</td>\n",
       "      <td>0</td>\n",
       "      <td>+</td>\n",
       "    </tr>\n",
       "    <tr>\n",
       "      <th>6</th>\n",
       "      <td>chr3</td>\n",
       "      <td>7479126292091364</td>\n",
       "      <td>86496996</td>\n",
       "      <td>ENST00000460586.1</td>\n",
       "      <td>0</td>\n",
       "      <td>+</td>\n",
       "    </tr>\n",
       "    <tr>\n",
       "      <th>7</th>\n",
       "      <td>chr1</td>\n",
       "      <td>2910346027350129</td>\n",
       "      <td>53974950</td>\n",
       "      <td>ENST00000558866.4</td>\n",
       "      <td>0</td>\n",
       "      <td>+</td>\n",
       "    </tr>\n",
       "    <tr>\n",
       "      <th>8</th>\n",
       "      <td>chr3</td>\n",
       "      <td>3819451606130944</td>\n",
       "      <td>61803634</td>\n",
       "      <td>ENST00000465586.1</td>\n",
       "      <td>0</td>\n",
       "      <td>+</td>\n",
       "    </tr>\n",
       "    <tr>\n",
       "      <th>9</th>\n",
       "      <td>chr3</td>\n",
       "      <td>7723244166360100</td>\n",
       "      <td>87883995</td>\n",
       "      <td>ENST00000466786.1</td>\n",
       "      <td>0</td>\n",
       "      <td>+</td>\n",
       "    </tr>\n",
       "    <tr>\n",
       "      <th>10</th>\n",
       "      <td>chr3</td>\n",
       "      <td>8370189912742564</td>\n",
       "      <td>91876543</td>\n",
       "      <td>ENST00000460876.1</td>\n",
       "      <td>0</td>\n",
       "      <td>+</td>\n",
       "    </tr>\n",
       "    <tr>\n",
       "      <th>11</th>\n",
       "      <td>chr3</td>\n",
       "      <td>9001550442003001</td>\n",
       "      <td>94888501</td>\n",
       "      <td>ENST00000460599.2</td>\n",
       "      <td>0</td>\n",
       "      <td>+</td>\n",
       "    </tr>\n",
       "  </tbody>\n",
       "</table>\n",
       "</div>"
      ],
      "text/plain": [
       "   chromo              start       stop            gene_ID  score strand\n",
       "0    chr1  52957529432500900  230174106  ENST00000454058.2      0      +\n",
       "1    chr1    894796124138449   29915337  ENST00000623731.1      0      +\n",
       "2    chr1   3819451606130944   61803634  ENST00000624542.1      0      +\n",
       "3    chr1    555406458445969   23573122  ENST00000454863.3      0      -\n",
       "4    chr1   6820664103385344   82588411  ENST00000575085.1      0      +\n",
       "5    chr1  16231199532975625  127470569  ENST00000509671.1      0      +\n",
       "6    chr3   7479126292091364   86496996  ENST00000460586.1      0      +\n",
       "7    chr1   2910346027350129   53974950  ENST00000558866.4      0      +\n",
       "8    chr3   3819451606130944   61803634  ENST00000465586.1      0      +\n",
       "9    chr3   7723244166360100   87883995  ENST00000466786.1      0      +\n",
       "10   chr3   8370189912742564   91876543  ENST00000460876.1      0      +\n",
       "11   chr3   9001550442003001   94888501  ENST00000460599.2      0      +"
      ]
     },
     "execution_count": 52,
     "metadata": {},
     "output_type": "execute_result"
    }
   ],
   "source": [
    "df['start'] = df['start'].apply(square)\n",
    "\n",
    "df"
   ]
  },
  {
   "cell_type": "markdown",
   "metadata": {},
   "source": [
    "# Level 3 with pandas"
   ]
  },
  {
   "cell_type": "code",
   "execution_count": 54,
   "metadata": {
    "ExecuteTime": {
     "end_time": "2018-06-26T20:37:19.276484Z",
     "start_time": "2018-06-26T20:37:19.258435Z"
    }
   },
   "outputs": [
    {
     "data": {
      "text/html": [
       "<div>\n",
       "<style>\n",
       "    .dataframe thead tr:only-child th {\n",
       "        text-align: right;\n",
       "    }\n",
       "\n",
       "    .dataframe thead th {\n",
       "        text-align: left;\n",
       "    }\n",
       "\n",
       "    .dataframe tbody tr th {\n",
       "        vertical-align: top;\n",
       "    }\n",
       "</style>\n",
       "<table border=\"1\" class=\"dataframe\">\n",
       "  <thead>\n",
       "    <tr style=\"text-align: right;\">\n",
       "      <th></th>\n",
       "      <th>chromo</th>\n",
       "      <th>start</th>\n",
       "      <th>stop</th>\n",
       "      <th>gene_ID</th>\n",
       "      <th>score</th>\n",
       "      <th>strand</th>\n",
       "    </tr>\n",
       "  </thead>\n",
       "  <tbody>\n",
       "    <tr>\n",
       "      <th>0</th>\n",
       "      <td>chr1</td>\n",
       "      <td>230125030</td>\n",
       "      <td>230174106</td>\n",
       "      <td>ENST00000454058.2</td>\n",
       "      <td>0</td>\n",
       "      <td>+</td>\n",
       "    </tr>\n",
       "    <tr>\n",
       "      <th>1</th>\n",
       "      <td>chr1</td>\n",
       "      <td>29913143</td>\n",
       "      <td>29915337</td>\n",
       "      <td>ENST00000623731.1</td>\n",
       "      <td>0</td>\n",
       "      <td>+</td>\n",
       "    </tr>\n",
       "    <tr>\n",
       "      <th>2</th>\n",
       "      <td>chr1</td>\n",
       "      <td>61801712</td>\n",
       "      <td>61803634</td>\n",
       "      <td>ENST00000624542.1</td>\n",
       "      <td>0</td>\n",
       "      <td>+</td>\n",
       "    </tr>\n",
       "    <tr>\n",
       "      <th>3</th>\n",
       "      <td>chr1</td>\n",
       "      <td>23567063</td>\n",
       "      <td>23573122</td>\n",
       "      <td>ENST00000454863.3</td>\n",
       "      <td>0</td>\n",
       "      <td>-</td>\n",
       "    </tr>\n",
       "    <tr>\n",
       "      <th>4</th>\n",
       "      <td>chr1</td>\n",
       "      <td>82587312</td>\n",
       "      <td>82588411</td>\n",
       "      <td>ENST00000575085.1</td>\n",
       "      <td>0</td>\n",
       "      <td>+</td>\n",
       "    </tr>\n",
       "  </tbody>\n",
       "</table>\n",
       "</div>"
      ],
      "text/plain": [
       "  chromo      start       stop            gene_ID  score strand\n",
       "0   chr1  230125030  230174106  ENST00000454058.2      0      +\n",
       "1   chr1   29913143   29915337  ENST00000623731.1      0      +\n",
       "2   chr1   61801712   61803634  ENST00000624542.1      0      +\n",
       "3   chr1   23567063   23573122  ENST00000454863.3      0      -\n",
       "4   chr1   82587312   82588411  ENST00000575085.1      0      +"
      ]
     },
     "execution_count": 54,
     "metadata": {},
     "output_type": "execute_result"
    }
   ],
   "source": [
    "bed = 'C:/Users/sksuzuki/Documents/EXCISION/level_3/ENCFF239FSU.bed'\n",
    "df = pd.read_csv(bed, sep='\\t', header=None)\n",
    "df.columns = ['chromo', 'start', 'stop', 'gene_ID', 'score', 'strand']\n",
    "df.head()"
   ]
  },
  {
   "cell_type": "code",
   "execution_count": 55,
   "metadata": {
    "ExecuteTime": {
     "end_time": "2018-06-26T20:38:18.280974Z",
     "start_time": "2018-06-26T20:38:18.262972Z"
    }
   },
   "outputs": [
    {
     "data": {
      "text/html": [
       "<div>\n",
       "<style>\n",
       "    .dataframe thead tr:only-child th {\n",
       "        text-align: right;\n",
       "    }\n",
       "\n",
       "    .dataframe thead th {\n",
       "        text-align: left;\n",
       "    }\n",
       "\n",
       "    .dataframe tbody tr th {\n",
       "        vertical-align: top;\n",
       "    }\n",
       "</style>\n",
       "<table border=\"1\" class=\"dataframe\">\n",
       "  <thead>\n",
       "    <tr style=\"text-align: right;\">\n",
       "      <th></th>\n",
       "      <th>chromo</th>\n",
       "      <th>start</th>\n",
       "      <th>stop</th>\n",
       "      <th>gene_ID</th>\n",
       "      <th>score</th>\n",
       "      <th>strand</th>\n",
       "    </tr>\n",
       "  </thead>\n",
       "  <tbody>\n",
       "    <tr>\n",
       "      <th>0</th>\n",
       "      <td>chr1</td>\n",
       "      <td>230125030</td>\n",
       "      <td>230174106</td>\n",
       "      <td>ENST00000454058.2</td>\n",
       "      <td>0</td>\n",
       "      <td>+</td>\n",
       "    </tr>\n",
       "    <tr>\n",
       "      <th>1</th>\n",
       "      <td>chr1</td>\n",
       "      <td>29913143</td>\n",
       "      <td>29915337</td>\n",
       "      <td>ENST00000623731.1</td>\n",
       "      <td>0</td>\n",
       "      <td>+</td>\n",
       "    </tr>\n",
       "    <tr>\n",
       "      <th>2</th>\n",
       "      <td>chr1</td>\n",
       "      <td>61801712</td>\n",
       "      <td>61803634</td>\n",
       "      <td>ENST00000624542.1</td>\n",
       "      <td>0</td>\n",
       "      <td>+</td>\n",
       "    </tr>\n",
       "    <tr>\n",
       "      <th>4</th>\n",
       "      <td>chr1</td>\n",
       "      <td>82587312</td>\n",
       "      <td>82588411</td>\n",
       "      <td>ENST00000575085.1</td>\n",
       "      <td>0</td>\n",
       "      <td>+</td>\n",
       "    </tr>\n",
       "    <tr>\n",
       "      <th>5</th>\n",
       "      <td>chr1</td>\n",
       "      <td>127401725</td>\n",
       "      <td>127470569</td>\n",
       "      <td>ENST00000509671.1</td>\n",
       "      <td>0</td>\n",
       "      <td>+</td>\n",
       "    </tr>\n",
       "  </tbody>\n",
       "</table>\n",
       "</div>"
      ],
      "text/plain": [
       "  chromo      start       stop            gene_ID  score strand\n",
       "0   chr1  230125030  230174106  ENST00000454058.2      0      +\n",
       "1   chr1   29913143   29915337  ENST00000623731.1      0      +\n",
       "2   chr1   61801712   61803634  ENST00000624542.1      0      +\n",
       "4   chr1   82587312   82588411  ENST00000575085.1      0      +\n",
       "5   chr1  127401725  127470569  ENST00000509671.1      0      +"
      ]
     },
     "execution_count": 55,
     "metadata": {},
     "output_type": "execute_result"
    }
   ],
   "source": [
    "# Filter for the postitive strand\n",
    "\n",
    "df_p = df[df['strand'] == '+']\n",
    "df_p.head()"
   ]
  },
  {
   "cell_type": "code",
   "execution_count": 58,
   "metadata": {
    "ExecuteTime": {
     "end_time": "2018-06-26T20:40:23.725773Z",
     "start_time": "2018-06-26T20:40:23.678647Z"
    }
   },
   "outputs": [
    {
     "name": "stderr",
     "output_type": "stream",
     "text": [
      "C:\\Users\\sksuzuki\\Anaconda3\\lib\\site-packages\\ipykernel_launcher.py:1: SettingWithCopyWarning: \n",
      "A value is trying to be set on a copy of a slice from a DataFrame.\n",
      "Try using .loc[row_indexer,col_indexer] = value instead\n",
      "\n",
      "See the caveats in the documentation: http://pandas.pydata.org/pandas-docs/stable/indexing.html#indexing-view-versus-copy\n",
      "  \"\"\"Entry point for launching an IPython kernel.\n"
     ]
    },
    {
     "data": {
      "text/html": [
       "<div>\n",
       "<style>\n",
       "    .dataframe thead tr:only-child th {\n",
       "        text-align: right;\n",
       "    }\n",
       "\n",
       "    .dataframe thead th {\n",
       "        text-align: left;\n",
       "    }\n",
       "\n",
       "    .dataframe tbody tr th {\n",
       "        vertical-align: top;\n",
       "    }\n",
       "</style>\n",
       "<table border=\"1\" class=\"dataframe\">\n",
       "  <thead>\n",
       "    <tr style=\"text-align: right;\">\n",
       "      <th></th>\n",
       "      <th>chromo</th>\n",
       "      <th>start</th>\n",
       "      <th>stop</th>\n",
       "      <th>gene_ID</th>\n",
       "      <th>score</th>\n",
       "      <th>strand</th>\n",
       "      <th>length</th>\n",
       "    </tr>\n",
       "  </thead>\n",
       "  <tbody>\n",
       "    <tr>\n",
       "      <th>0</th>\n",
       "      <td>chr1</td>\n",
       "      <td>230125030</td>\n",
       "      <td>230174106</td>\n",
       "      <td>ENST00000454058.2</td>\n",
       "      <td>0</td>\n",
       "      <td>+</td>\n",
       "      <td>49076</td>\n",
       "    </tr>\n",
       "    <tr>\n",
       "      <th>1</th>\n",
       "      <td>chr1</td>\n",
       "      <td>29913143</td>\n",
       "      <td>29915337</td>\n",
       "      <td>ENST00000623731.1</td>\n",
       "      <td>0</td>\n",
       "      <td>+</td>\n",
       "      <td>2194</td>\n",
       "    </tr>\n",
       "    <tr>\n",
       "      <th>2</th>\n",
       "      <td>chr1</td>\n",
       "      <td>61801712</td>\n",
       "      <td>61803634</td>\n",
       "      <td>ENST00000624542.1</td>\n",
       "      <td>0</td>\n",
       "      <td>+</td>\n",
       "      <td>1922</td>\n",
       "    </tr>\n",
       "    <tr>\n",
       "      <th>4</th>\n",
       "      <td>chr1</td>\n",
       "      <td>82587312</td>\n",
       "      <td>82588411</td>\n",
       "      <td>ENST00000575085.1</td>\n",
       "      <td>0</td>\n",
       "      <td>+</td>\n",
       "      <td>1099</td>\n",
       "    </tr>\n",
       "    <tr>\n",
       "      <th>5</th>\n",
       "      <td>chr1</td>\n",
       "      <td>127401725</td>\n",
       "      <td>127470569</td>\n",
       "      <td>ENST00000509671.1</td>\n",
       "      <td>0</td>\n",
       "      <td>+</td>\n",
       "      <td>68844</td>\n",
       "    </tr>\n",
       "  </tbody>\n",
       "</table>\n",
       "</div>"
      ],
      "text/plain": [
       "  chromo      start       stop            gene_ID  score strand  length\n",
       "0   chr1  230125030  230174106  ENST00000454058.2      0      +   49076\n",
       "1   chr1   29913143   29915337  ENST00000623731.1      0      +    2194\n",
       "2   chr1   61801712   61803634  ENST00000624542.1      0      +    1922\n",
       "4   chr1   82587312   82588411  ENST00000575085.1      0      +    1099\n",
       "5   chr1  127401725  127470569  ENST00000509671.1      0      +   68844"
      ]
     },
     "execution_count": 58,
     "metadata": {},
     "output_type": "execute_result"
    }
   ],
   "source": [
    "df_p['length'] = df_p['stop'] - df_p['start']\n",
    "df_p.head()"
   ]
  },
  {
   "cell_type": "code",
   "execution_count": 60,
   "metadata": {
    "ExecuteTime": {
     "end_time": "2018-06-26T20:41:45.512529Z",
     "start_time": "2018-06-26T20:41:45.503537Z"
    }
   },
   "outputs": [
    {
     "data": {
      "text/plain": [
       "array(['chr1', 'chr3'], dtype=object)"
      ]
     },
     "execution_count": 60,
     "metadata": {},
     "output_type": "execute_result"
    }
   ],
   "source": [
    "# get unique name in chromo column\n",
    "\n",
    "chromo_names = df_p['chromo'].unique()\n",
    "chromo_names"
   ]
  },
  {
   "cell_type": "code",
   "execution_count": null,
   "metadata": {
    "collapsed": true
   },
   "outputs": [],
   "source": []
  }
 ],
 "metadata": {
  "hide_input": false,
  "kernelspec": {
   "display_name": "Python 3",
   "language": "python",
   "name": "python3"
  },
  "language_info": {
   "codemirror_mode": {
    "name": "ipython",
    "version": 3
   },
   "file_extension": ".py",
   "mimetype": "text/x-python",
   "name": "python",
   "nbconvert_exporter": "python",
   "pygments_lexer": "ipython3",
   "version": "3.6.2"
  },
  "latex_envs": {
   "LaTeX_envs_menu_present": true,
   "autocomplete": true,
   "bibliofile": "biblio.bib",
   "cite_by": "apalike",
   "current_citInitial": 1,
   "eqLabelWithNumbers": true,
   "eqNumInitial": 1,
   "hotkeys": {
    "equation": "Ctrl-E",
    "itemize": "Ctrl-I"
   },
   "labels_anchors": false,
   "latex_user_defs": false,
   "report_style_numbering": false,
   "user_envs_cfg": false
  },
  "toc": {
   "colors": {
    "hover_highlight": "#DAA520",
    "navigate_num": "#000000",
    "navigate_text": "#333333",
    "running_highlight": "#FF0000",
    "selected_highlight": "#FFD700",
    "sidebar_border": "#EEEEEE",
    "wrapper_background": "#FFFFFF"
   },
   "moveMenuLeft": true,
   "nav_menu": {
    "height": "30px",
    "width": "252px"
   },
   "navigate_menu": true,
   "number_sections": true,
   "sideBar": true,
   "threshold": 4,
   "toc_cell": false,
   "toc_section_display": "block",
   "toc_window_display": false,
   "widenNotebook": false
  }
 },
 "nbformat": 4,
 "nbformat_minor": 2
}
